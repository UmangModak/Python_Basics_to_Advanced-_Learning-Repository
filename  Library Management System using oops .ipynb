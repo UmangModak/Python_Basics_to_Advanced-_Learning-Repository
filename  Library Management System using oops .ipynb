{
 "cells": [
  {
   "cell_type": "code",
   "execution_count": 14,
   "id": "59e4fe9a-c60f-425b-86c8-a66d90b5264c",
   "metadata": {},
   "outputs": [],
   "source": [
    "import json\n",
    "import os\n",
    "\n",
    "\n",
    "class Library:\n",
    "    def __init__(self, name=\"City Library\"):\n",
    "        self.__name = name\n",
    "        self.__books = {}   \n",
    "\n",
    "    def get_library_name(self):\n",
    "        return self.__name\n",
    "\n",
    "    def get_books(self):\n",
    "        return self.__books\n",
    "\n",
    "    def add_book(self, book_id, title, author):\n",
    "        if book_id not in self.__books:\n",
    "            self.__books[book_id] = {\"title\": title, \"author\": author, \"available\": True}\n",
    "            print(f\"Book '{title}' added successfully.\")\n",
    "        else:\n",
    "            print(\"Book ID already exists!\")\n",
    "\n",
    "    def remove_book(self, book_id):\n",
    "        if book_id in self.__books:\n",
    "            removed = self.__books.pop(book_id)\n",
    "            print(f\"Book '{removed['title']}' removed successfully.\")\n",
    "        else:\n",
    "            print(\"Book not found.\")\n",
    "\n",
    "    def save_data(self, filename=\"library_data.json\"):\n",
    "        with open(filename, \"w\") as f:\n",
    "            json.dump(self.__books, f, indent=4)\n",
    "        print(\"Library data saved to file.\")\n",
    "\n",
    "    def load_data(self, filename=\"library_data.json\"):\n",
    "        if os.path.exists(filename):\n",
    "            with open(filename, \"r\") as f:\n",
    "                self.__books = json.load(f)\n",
    "            print(\"Library data loaded from file.\")\n",
    "        else:\n",
    "            print(\"No saved data found.\")\n",
    "\n",
    "\n",
    "\n",
    "class Member:\n",
    "    def __init__(self, member_id, name, library: Library):\n",
    "        self.__member_id = member_id\n",
    "        self.__name = name\n",
    "        self.__borrowed_books = []\n",
    "        self.__library = library \n",
    "\n",
    "    def get_member_name(self):\n",
    "        return self.__name\n",
    "\n",
    "    def get_borrowed_books(self):\n",
    "        return self.__borrowed_books\n",
    "\n",
    "    def borrow_book(self, book_id):\n",
    "        books = self.__library.get_books()\n",
    "        if book_id in books and books[book_id][\"available\"]:\n",
    "            books[book_id][\"available\"] = False\n",
    "            self.__borrowed_books.append(book_id)\n",
    "            print(f\"{self.__name} borrowed '{books[book_id]['title']}'\")\n",
    "        else:\n",
    "            print(\"Book not available or does not exist.\")\n",
    "\n",
    "    def return_book(self, book_id):\n",
    "        books = self.__library.get_books()\n",
    "        if book_id in self.__borrowed_books:\n",
    "            books[book_id][\"available\"] = True\n",
    "            self.__borrowed_books.remove(book_id)\n",
    "            print(f\"{self.__name} returned '{books[book_id]['title']}'\")\n",
    "        else:\n",
    "            print(\"This book was not borrowed by you.\")"
   ]
  },
  {
   "cell_type": "code",
   "execution_count": 20,
   "id": "15e164c9-3e99-4beb-bab6-c431a5e4525e",
   "metadata": {},
   "outputs": [],
   "source": [
    "lib = Library(\"Central Library\")"
   ]
  },
  {
   "cell_type": "code",
   "execution_count": 21,
   "id": "348ff456-e572-48f5-9262-5ec9b530bb68",
   "metadata": {},
   "outputs": [
    {
     "name": "stdout",
     "output_type": "stream",
     "text": [
      "Book 'Python Programming' added successfully.\n",
      "Book 'Data Science Handbook' added successfully.\n"
     ]
    }
   ],
   "source": [
    "lib.add_book(\"B101\", \"Python Programming\", \"Guido van Rossum\")\n",
    "lib.add_book(\"B102\", \"Data Science Handbook\", \"Jake VanderPlas\")"
   ]
  },
  {
   "cell_type": "code",
   "execution_count": 22,
   "id": "5a5545dd-61f9-4d53-a5e5-b0915087548f",
   "metadata": {},
   "outputs": [],
   "source": [
    "member_1 = Member(\"M001\", \"Alice\", lib)"
   ]
  },
  {
   "cell_type": "code",
   "execution_count": 23,
   "id": "fc35e644-bdd1-4e56-9e42-000ce6c787e2",
   "metadata": {},
   "outputs": [
    {
     "name": "stdout",
     "output_type": "stream",
     "text": [
      "Alice borrowed 'Python Programming'\n"
     ]
    }
   ],
   "source": [
    "member_1.borrow_book(\"B101\")"
   ]
  },
  {
   "cell_type": "code",
   "execution_count": 24,
   "id": "cfdc1d83-ed0f-4199-9ab0-8e29e9d35f48",
   "metadata": {},
   "outputs": [
    {
     "name": "stdout",
     "output_type": "stream",
     "text": [
      "Alice returned 'Python Programming'\n"
     ]
    }
   ],
   "source": [
    "member_1.return_book(\"B101\")"
   ]
  },
  {
   "cell_type": "code",
   "execution_count": 26,
   "id": "0e3e0968-e312-4ad0-af46-574f4a2772a8",
   "metadata": {},
   "outputs": [
    {
     "data": {
      "text/plain": [
       "{'B101': {'title': 'Python Programming',\n",
       "  'author': 'Guido van Rossum',\n",
       "  'available': True},\n",
       " 'B102': {'title': 'Data Science Handbook',\n",
       "  'author': 'Jake VanderPlas',\n",
       "  'available': True}}"
      ]
     },
     "execution_count": 26,
     "metadata": {},
     "output_type": "execute_result"
    }
   ],
   "source": [
    "lib.get_books()"
   ]
  },
  {
   "cell_type": "code",
   "execution_count": null,
   "id": "5ae98d35-f8de-4a89-86fb-e82095d8f2d8",
   "metadata": {},
   "outputs": [],
   "source": []
  }
 ],
 "metadata": {
  "kernelspec": {
   "display_name": "Python 3 (ipykernel)",
   "language": "python",
   "name": "python3"
  },
  "language_info": {
   "codemirror_mode": {
    "name": "ipython",
    "version": 3
   },
   "file_extension": ".py",
   "mimetype": "text/x-python",
   "name": "python",
   "nbconvert_exporter": "python",
   "pygments_lexer": "ipython3",
   "version": "3.13.5"
  },
  "widgets": {
   "application/vnd.jupyter.widget-state+json": {
    "state": {},
    "version_major": 2,
    "version_minor": 0
   }
  }
 },
 "nbformat": 4,
 "nbformat_minor": 5
}
