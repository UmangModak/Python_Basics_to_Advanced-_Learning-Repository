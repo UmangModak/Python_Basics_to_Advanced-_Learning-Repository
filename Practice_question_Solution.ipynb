{
 "cells": [
  {
   "cell_type": "markdown",
   "id": "432bd00e-7327-4cc8-9eed-f18a7661a3f1",
   "metadata": {},
   "source": [
    "### Solution on If-Elif-Else"
   ]
  },
  {
   "cell_type": "markdown",
   "id": "601a8e43-4b62-48a0-88e1-2cf79cf70b8e",
   "metadata": {},
   "source": [
    "1. Write a program that checks if a number is positive."
   ]
  },
  {
   "cell_type": "code",
   "execution_count": 4,
   "id": "cfa1df5f-4331-4efe-b242-d3a1c5117184",
   "metadata": {},
   "outputs": [
    {
     "name": "stdin",
     "output_type": "stream",
     "text": [
      "Enter your number :  -2\n"
     ]
    },
    {
     "name": "stdout",
     "output_type": "stream",
     "text": [
      "-2 is a negative number\n"
     ]
    }
   ],
   "source": [
    "number = int(input('Enter your number : '))\n",
    "if number > 0:\n",
    "    print(f\"{number} is a positive number\")\n",
    "\n",
    "else:\n",
    "    print(f\"{number} is a negative number\")"
   ]
  },
  {
   "cell_type": "markdown",
   "id": "4aa20d5f-7989-4d57-a32e-eb44f48c1999",
   "metadata": {},
   "source": [
    "2. Check if a user’s age is greater than or equal to 18 (eligible to vote)."
   ]
  },
  {
   "cell_type": "code",
   "execution_count": 9,
   "id": "ebc31148-4844-4259-aa0d-51089e95da34",
   "metadata": {},
   "outputs": [
    {
     "name": "stdin",
     "output_type": "stream",
     "text": [
      "Enter your age : 18\n"
     ]
    },
    {
     "name": "stdout",
     "output_type": "stream",
     "text": [
      "you are eligible for vote\n"
     ]
    }
   ],
   "source": [
    "age = int(input('Enter your age :'))\n",
    "if age >= 18:\n",
    "    print(\"you are eligible for vote\")\n",
    "else:\n",
    "    print(\"you are not eligible for vote\")"
   ]
  },
  {
   "cell_type": "markdown",
   "id": "dc062ffb-9282-4225-9390-e12e4ac92f12",
   "metadata": {},
   "source": [
    "3. Check if a string contains the word \"Python\""
   ]
  },
  {
   "cell_type": "code",
   "execution_count": 19,
   "id": "ecdff34e-1134-44c4-a1f6-47f15ad7f345",
   "metadata": {},
   "outputs": [
    {
     "name": "stdin",
     "output_type": "stream",
     "text": [
      "Enter your string: Hello Python\n"
     ]
    },
    {
     "name": "stdout",
     "output_type": "stream",
     "text": [
      "Yes, the Hello Python contains word Python \n"
     ]
    }
   ],
   "source": [
    "string = str(input(\"Enter your string:\"))\n",
    "\n",
    "if 'Python' in string:\n",
    "    print(F\"Yes, the {string} contains word Python \")\n",
    "\n",
    "else:\n",
    "    print(F\"No, the {string} doesn't contains word Python \")"
   ]
  },
  {
   "cell_type": "markdown",
   "id": "c409cfc5-e8d8-4aa3-9bac-5fb67ca040b6",
   "metadata": {},
   "source": [
    "4. Check if a number is divisible by 5."
   ]
  },
  {
   "cell_type": "code",
   "execution_count": 24,
   "id": "602fb67d-0f58-4f34-9488-6c2fc9d860b1",
   "metadata": {},
   "outputs": [
    {
     "name": "stdin",
     "output_type": "stream",
     "text": [
      "Enter your number :  10\n"
     ]
    },
    {
     "name": "stdout",
     "output_type": "stream",
     "text": [
      "10 is divisible by 5\n"
     ]
    }
   ],
   "source": [
    "number = int(input(\"Enter your number : \"))\n",
    "\n",
    "if number % 5 ==0:\n",
    "    print(f\"{number} is divisible by 5\")\n",
    "    \n",
    "else:\n",
    "    print(f\"{number} is not divisible by 5\")\n"
   ]
  },
  {
   "cell_type": "markdown",
   "id": "1e9826fe-6d11-4500-8891-35921753395f",
   "metadata": {},
   "source": [
    "5. Verify if a user-entered password is \"admin123\"."
   ]
  },
  {
   "cell_type": "code",
   "execution_count": 26,
   "id": "a9f569e2-95e2-4218-86ed-c37d52bf8a07",
   "metadata": {},
   "outputs": [
    {
     "name": "stdin",
     "output_type": "stream",
     "text": [
      "Enter your password :  admin123\n"
     ]
    },
    {
     "name": "stdout",
     "output_type": "stream",
     "text": [
      " Your passwor is correct \n"
     ]
    }
   ],
   "source": [
    "password = \"admin123\"\n",
    "\n",
    "user_pass = str(input(\"Enter your password : \"))\n",
    "\n",
    "if user_pass == password :\n",
    "    print(\" Your password is correct \")\n",
    "\n",
    "else:\n",
    "    print(\" Your passwod is incorrect \")\n",
    "    "
   ]
  },
  {
   "cell_type": "markdown",
   "id": "860ddd29-bc98-471b-b8a6-fbf53a38045b",
   "metadata": {},
   "source": [
    "6. Check if a number entered by the user is greater than 100."
   ]
  },
  {
   "cell_type": "code",
   "execution_count": 30,
   "id": "d1bed53a-8d24-4b3c-b1e5-ea08fd0e9d04",
   "metadata": {},
   "outputs": [
    {
     "name": "stdin",
     "output_type": "stream",
     "text": [
      "Enter your number: 101\n"
     ]
    },
    {
     "name": "stdout",
     "output_type": "stream",
     "text": [
      "101 is greater than 100\n"
     ]
    }
   ],
   "source": [
    "number = int(input(\"Enter your number:\"))\n",
    "\n",
    "if number > 100:\n",
    "    print(f\"{number} is greater than 100\")\n",
    "\n",
    "else:\n",
    "    print(f\"{number} is less than 100\")"
   ]
  },
  {
   "cell_type": "markdown",
   "id": "c8e183d0-01cf-4a55-bd6e-11bf2f52c85b",
   "metadata": {},
   "source": [
    "7. Check if a string starts with the letter \"A\"."
   ]
  },
  {
   "cell_type": "code",
   "execution_count": 34,
   "id": "8579a33c-c98a-40e2-8851-bd36ebd4e3ba",
   "metadata": {},
   "outputs": [
    {
     "name": "stdin",
     "output_type": "stream",
     "text": [
      "Enter your string: Anand\n"
     ]
    },
    {
     "name": "stdout",
     "output_type": "stream",
     "text": [
      "Anand , starts with letter A\n"
     ]
    }
   ],
   "source": [
    "string = str(input(\"Enter your string:\"))\n",
    "\n",
    "if string[0] =='A':\n",
    "    print(f\"{string} , starts with letter A\")\n",
    "\n",
    "else:\n",
    "    print(f\"{string} , doesn't starts with letter A\")\n",
    "    "
   ]
  },
  {
   "cell_type": "markdown",
   "id": "30f215be-af1c-4342-9fb6-628adb2f080f",
   "metadata": {},
   "source": [
    "8. Check if a number is a multiple of both 3 and 7."
   ]
  },
  {
   "cell_type": "code",
   "execution_count": 39,
   "id": "0785ced3-82af-41c1-a426-4c06525843ef",
   "metadata": {},
   "outputs": [
    {
     "name": "stdin",
     "output_type": "stream",
     "text": [
      "Enter your number  21\n"
     ]
    },
    {
     "name": "stdout",
     "output_type": "stream",
     "text": [
      "21 is divisible by both 3 and 7\n"
     ]
    }
   ],
   "source": [
    "number = int(input(\"Enter your number \"))\n",
    "\n",
    "if number % 3== 0 and number % 7 ==0:\n",
    "    print(f\"{number} is divisible by both 3 and 7\")\n",
    "\n",
    "else:\n",
    "    print(f\"{number} it is not divisible by both 3 and 7\")\n",
    "    "
   ]
  },
  {
   "cell_type": "markdown",
   "id": "a5d250c1-131a-4b62-a005-506fbbefffdf",
   "metadata": {},
   "source": [
    "9. Check if a user’s input matches your favorite movie title.\n"
   ]
  },
  {
   "cell_type": "code",
   "execution_count": 50,
   "id": "97dc344a-9ff7-4910-ad6b-9c7ba3309bb9",
   "metadata": {},
   "outputs": [
    {
     "name": "stdout",
     "output_type": "stream",
     "text": [
      "please Enter you input\n",
      "1 Bahuballi\n",
      "2 KGF\n",
      "3 Avengers\n",
      "4 Bhediya\n",
      "5 Stree\n"
     ]
    },
    {
     "name": "stdin",
     "output_type": "stream",
     "text": [
      "Enter your choice : 2\n"
     ]
    },
    {
     "name": "stdout",
     "output_type": "stream",
     "text": [
      "user choice is a favorite movie\n"
     ]
    }
   ],
   "source": [
    "favorite_movie = \"KGF\"\n",
    "\n",
    "print(\"please Enter you input\")\n",
    "\n",
    "movie_list = [\"Bahuballi\",\"KGF\",\"Avengers\",\"Bhediya\",\"Stree\"]\n",
    "for index , movie in enumerate(movie_list,start=1):\n",
    "    print(index,movie)\n",
    "\n",
    "user_choice = int(input(\"Enter your choice :\"))\n",
    "\n",
    "if 1 <= user_choice <= len(movie_list):\n",
    "    movie = movie_list[user_choice-1]\n",
    "\n",
    "    if movie == favorite_movie:\n",
    "        print(\"user choice is a favorite movie\")\n",
    "        \n",
    "    else:\n",
    "        print(\"user choice is not favorite movie\")\n",
    "\n",
    "else:\n",
    "    print(\"Enter valid choice\")\n",
    "    \n",
    "    "
   ]
  },
  {
   "cell_type": "markdown",
   "id": "2ff9a55c-9d17-4c23-a78c-505007988e40",
   "metadata": {},
   "source": [
    "10. Check if the entered PIN is exactly 4 digits."
   ]
  },
  {
   "cell_type": "code",
   "execution_count": 57,
   "id": "0cf0d3a8-6695-40c0-914b-8c1fb9c08586",
   "metadata": {},
   "outputs": [
    {
     "name": "stdin",
     "output_type": "stream",
     "text": [
      "Enter your pin  1234\n"
     ]
    },
    {
     "name": "stdout",
     "output_type": "stream",
     "text": [
      "The Entered pin has exactly 4 digit \n"
     ]
    }
   ],
   "source": [
    "pin = input('Enter your pin ')\n",
    "\n",
    "if pin.isdigit() and len(pin)==4:\n",
    "    print(\"The Entered pin has exactly 4 digit \")\n",
    "\n",
    "else:\n",
    "    print(\"The Entered pin hasn't exactly 4 digit \")"
   ]
  },
  {
   "cell_type": "markdown",
   "id": "09c9523c-8987-46e2-8b84-a1ef61a473a0",
   "metadata": {},
   "source": [
    "11. Check if a number is even or odd."
   ]
  },
  {
   "cell_type": "code",
   "execution_count": 59,
   "id": "575e92e4-bf2a-4558-83e1-4c6474ae68a1",
   "metadata": {},
   "outputs": [
    {
     "name": "stdin",
     "output_type": "stream",
     "text": [
      "Enter your number : 22\n"
     ]
    },
    {
     "name": "stdout",
     "output_type": "stream",
     "text": [
      "It is a Even Number\n"
     ]
    }
   ],
   "source": [
    "number = int(input(\"Enter your number :\"))\n",
    "\n",
    "if number % 2==0:\n",
    "    print(\"It is a Even Number\")\n",
    "\n",
    "else:\n",
    "    print(\"It is Odd Number\")"
   ]
  },
  {
   "cell_type": "markdown",
   "id": "cce9c64c-73f0-4dd3-8c90-2c91686d65bc",
   "metadata": {},
   "source": [
    "12. Determine if a year is a leap year or not."
   ]
  },
  {
   "cell_type": "code",
   "execution_count": 68,
   "id": "fcb00bd2-1506-4538-b261-9907ae3fc37d",
   "metadata": {},
   "outputs": [
    {
     "name": "stdin",
     "output_type": "stream",
     "text": [
      "Enter year to check leap year or not:  1992\n"
     ]
    },
    {
     "name": "stdout",
     "output_type": "stream",
     "text": [
      "It is a leap year\n"
     ]
    }
   ],
   "source": [
    "year = int(input(\"Enter year to check leap year or not: \"))\n",
    "\n",
    "if year % 400 == 0:\n",
    "    print(\"It is a leap year\")\n",
    "else:\n",
    "    if year % 100 == 0:\n",
    "        print(\"It is not a leap year\")\n",
    "    else:\n",
    "        if year % 4 == 0:\n",
    "            print(\"It is a leap year\")\n",
    "        else:\n",
    "            \n",
    "            print(\"It is not a leap year\")\n"
   ]
  },
  {
   "cell_type": "markdown",
   "id": "6333b7d2-6a8c-4dcc-ac0c-0508f081b866",
   "metadata": {},
   "source": [
    "13. Check if the first character of a string is uppercase."
   ]
  },
  {
   "cell_type": "code",
   "execution_count": 7,
   "id": "f3299c1d-cbd6-4658-a2ef-7054a28ef266",
   "metadata": {},
   "outputs": [
    {
     "name": "stdin",
     "output_type": "stream",
     "text": [
      "Enter your String Roshahssah\n"
     ]
    },
    {
     "name": "stdout",
     "output_type": "stream",
     "text": [
      "Roshahssah ,in this first character have uppercase\n"
     ]
    }
   ],
   "source": [
    "string = str(input(\"Enter your String\"))\n",
    "\n",
    "if string[0].isupper():\n",
    "    print(f\"{string} ,in this first character have uppercase\")\n",
    "else:\n",
    "    print(f\"{string}, in this first character doesn't have uppercase\")"
   ]
  },
  {
   "cell_type": "markdown",
   "id": "5b24590a-67cf-4cbe-8672-59fe12ed1154",
   "metadata": {},
   "source": [
    "14. Check if a given number is a perfect square."
   ]
  },
  {
   "cell_type": "code",
   "execution_count": 24,
   "id": "038b9415-733e-459f-bc0a-282e0203fc11",
   "metadata": {},
   "outputs": [
    {
     "name": "stdin",
     "output_type": "stream",
     "text": [
      "Enter a number:  16\n"
     ]
    },
    {
     "name": "stdout",
     "output_type": "stream",
     "text": [
      "4\n",
      "16 has a perfect square of a number 4\n"
     ]
    }
   ],
   "source": [
    "import math\n",
    "\n",
    "num = int(input(\"Enter a number: \"))\n",
    "\n",
    "root = int(math.sqrt(num))\n",
    "\n",
    "#print(root)\n",
    "\n",
    "if num < 0:\n",
    "    print(\"{num} is not a perfect square (negative numbers can't be perfect squares\")\n",
    "else:\n",
    "    if root *root == num:\n",
    "        print(f\"{num} has a perfect square of a number {root}\")\n",
    "\n",
    "    else:\n",
    "        print(f\"{num} hasn't a perfect squarem of a number {root}\")\n",
    "        "
   ]
  },
  {
   "cell_type": "markdown",
   "id": "f72ee598-938a-47c7-833f-f53bf0fd0ae3",
   "metadata": {},
   "source": [
    "15. Check if a character is a vowel or consonant."
   ]
  },
  {
   "cell_type": "code",
   "execution_count": 32,
   "id": "26525808-f393-45e4-ab15-44ac484f4bdc",
   "metadata": {},
   "outputs": [
    {
     "name": "stdin",
     "output_type": "stream",
     "text": [
      "Enter your String HellO\n"
     ]
    },
    {
     "name": "stdout",
     "output_type": "stream",
     "text": [
      "HellO,contains a vowel character\n"
     ]
    }
   ],
   "source": [
    "string = string = str(input(\"Enter your String\"))\n",
    "vowel = 'AEIOUaeiou'\n",
    "\n",
    "found = False\n",
    "for i in string:\n",
    "    if i in vowel :\n",
    "        found =True\n",
    "        break\n",
    "\n",
    "if found:\n",
    "    print(f\"{string},contains a vowel character\")\n",
    "\n",
    "else:\n",
    "    print(f\"{string},doesn't contains a vowel character\")\n",
    "\n",
    "    "
   ]
  },
  {
   "cell_type": "markdown",
   "id": "c332f687-cba1-49a0-b6db-540c2dd38dd1",
   "metadata": {},
   "source": [
    "16. Determine whether a given string is a palindrome."
   ]
  },
  {
   "cell_type": "code",
   "execution_count": 36,
   "id": "f573bd3d-c8aa-4069-b5a8-4497730b1caa",
   "metadata": {},
   "outputs": [
    {
     "name": "stdin",
     "output_type": "stream",
     "text": [
      "Enter your String level\n"
     ]
    },
    {
     "name": "stdout",
     "output_type": "stream",
     "text": [
      "level, It is a palindrome string\n"
     ]
    }
   ],
   "source": [
    "string = str(input(\"Enter your String\"))\n",
    "\n",
    "check_strng = string[::-1]\n",
    "\n",
    "if string == check_strng:\n",
    "    print(f\"{string}, It is a palindrome string\")\n",
    "\n",
    "else:\n",
    "    print(f\"{string}, It is not a palindrome string\")"
   ]
  },
  {
   "cell_type": "markdown",
   "id": "b942e5a3-a2f5-4149-8f04-76de6cd1a1b8",
   "metadata": {},
   "source": [
    "17. Check if the sum of two numbers is greater than 50."
   ]
  },
  {
   "cell_type": "code",
   "execution_count": 12,
   "id": "02bc4bec-9f48-47f5-89f0-bccb0fd7c54f",
   "metadata": {},
   "outputs": [
    {
     "name": "stdin",
     "output_type": "stream",
     "text": [
      "Enter your first number :  23\n",
      "Enter your second number :  43\n"
     ]
    },
    {
     "name": "stdout",
     "output_type": "stream",
     "text": [
      "The sum of two numbers 23 and 43 is greater than 50\n"
     ]
    }
   ],
   "source": [
    "num_1 = int(input(\"Enter your first number : \"))\n",
    "num_2 = int(input(\"Enter your second number : \"))\n",
    "\n",
    "summs = num_1 + num_2\n",
    "\n",
    "if summs > 50:\n",
    "    print(f\"The sum of two numbers {num_1} and {num_2} are greater than 50\")\n",
    "else:\n",
    "    print(f\"The sum of two numbers {num_1} and {num_2} are not greater than 50\")"
   ]
  },
  {
   "cell_type": "markdown",
   "id": "526af40a-05bb-42f8-bfe9-aa565fc72063",
   "metadata": {},
   "source": [
    "18.Check if a number is positive; if not, make it positive."
   ]
  },
  {
   "cell_type": "code",
   "execution_count": 19,
   "id": "6b9753fd-b2c4-4961-8b4f-7a23e5e72eca",
   "metadata": {},
   "outputs": [
    {
     "name": "stdin",
     "output_type": "stream",
     "text": [
      "Enter your number :  -2\n"
     ]
    },
    {
     "name": "stdout",
     "output_type": "stream",
     "text": [
      "-2, the number provided is negative\n",
      "The positive version of that number is :\n",
      "2\n"
     ]
    }
   ],
   "source": [
    "num = int(input(\"Enter your number : \"))\n",
    "\n",
    "if num < 0:\n",
    "    print(f\"{num}, the number provided is negative\")\n",
    "\n",
    "    if num < 0:\n",
    "        print(\"The positive version of that number is :\")\n",
    "        print(abs(num))\n",
    "else:\n",
    "    print(f\"{num} the number provided is positive\")"
   ]
  },
  {
   "cell_type": "markdown",
   "id": "ac37d64a-0ae0-41dd-91eb-4903b99a0b34",
   "metadata": {},
   "source": [
    "\n",
    "19. Display the type of triangle based on its three sides (Equilateral, Isosceles, Scalene).\n",
    "\n",
    "    1. Equilateral triangle :  All three sides are same\n",
    "    2. Isoscales triangle   : Two side are same\n",
    "    3. Scalene Triangle     : All sides are different."
   ]
  },
  {
   "cell_type": "code",
   "execution_count": 28,
   "id": "0d3c593e-ff84-4210-8b2a-8ef5562a484e",
   "metadata": {},
   "outputs": [
    {
     "name": "stdin",
     "output_type": "stream",
     "text": [
      "Enter your first side of triangle :  1\n",
      "Enter your second side of triangle :  1\n",
      "Enter your third side of triangle :  1\n"
     ]
    },
    {
     "name": "stdout",
     "output_type": "stream",
     "text": [
      "All of your sides of triangle are same , here are your sides first : 1 second : 1 and third : 1\n",
      "This is a Equilateral triangle \n"
     ]
    }
   ],
   "source": [
    "first_side = int(input(\"Enter your first side of triangle : \"))\n",
    "second_side = int(input(\"Enter your second side of triangle : \"))\n",
    "third_side = int(input(\"Enter your third side of triangle : \"))\n",
    "\n",
    "\n",
    "if first_side == second_side == third_side :\n",
    "    print(f\"All of your sides of triangle are same , here are your sides first : {first_side} second : {second_side} and third : {third_side}\")\n",
    "    print(\"This is a Equilateral triangle \")\n",
    "\n",
    "elif  first_side == second_side != third_side or first_side != second_side == third_side or first_side == third_side != second_side:\n",
    "    print(f\"Two of your sides of triangle are same , here are your sides first : {first_side} second : {second_side} and third : {third_side}\")\n",
    "    print(\"This is a Isoscales triangle \")\n",
    "\n",
    "elif  first_side != second_side != third_side :\n",
    "    print(f\"None of your sides of triangle are same , here are your sides first : {first_side} second : {second_side} and third : {third_side}\")\n",
    "    print(\"This is a Scalene triangle \")\n",
    "    "
   ]
  },
  {
   "cell_type": "markdown",
   "id": "dda9274a-e2ef-4fad-a84c-ee0cac880607",
   "metadata": {},
   "source": [
    "20. Determine season based on month number (1–12)."
   ]
  },
  {
   "cell_type": "code",
   "execution_count": 59,
   "id": "9421b705-12ca-448e-b627-644df37b1979",
   "metadata": {},
   "outputs": [
    {
     "name": "stdin",
     "output_type": "stream",
     "text": [
      "Enter your number :  12\n"
     ]
    },
    {
     "name": "stdout",
     "output_type": "stream",
     "text": [
      "This is a Winter season\n",
      "Its December\n"
     ]
    }
   ],
   "source": [
    "num = int(input(\"Enter your number : \"))\n",
    "\n",
    "if  num <= 0 or num >=13 :\n",
    "    print(\"PLease enter valid choice\") \n",
    "\n",
    "else:\n",
    "    if num in (12, 1, 2):\n",
    "        season = \"Winter\"\n",
    "        print(f\"This is a {season} season\")\n",
    "\n",
    "        if num ==1:\n",
    "            print(\"its January\")\n",
    "        elif num ==2:\n",
    "            print(\"its February\")\n",
    "        else:\n",
    "            print(\"Its December\")\n",
    "        \n",
    "    elif num in (3, 4, 5):\n",
    "        season = \"Spring\"\n",
    "        print(f\"This is a {season} season\")\n",
    "\n",
    "        if num ==3:\n",
    "            print(\"its March\")\n",
    "        elif num ==4:\n",
    "            print(\"its April\")\n",
    "        else:\n",
    "            print(\"Its May\")\n",
    "\n",
    "    \n",
    "    elif num in (6, 7, 8):\n",
    "        season = \"Summer\"\n",
    "        print(f\"This is a {season} season\")\n",
    "\n",
    "        if num ==6:\n",
    "            print(\"its June\")\n",
    "        elif num ==7:\n",
    "            print(\"its July\")\n",
    "        else:\n",
    "            print(\"Its August\")\n",
    "        \n",
    "    elif num in (9, 10, 11):\n",
    "        season = \"Autumn\"\n",
    "        print(f\"This is a {season} season\")\n",
    "\n",
    "        if num ==9:\n",
    "            print(\"its September\")\n",
    "        elif num ==10:\n",
    "            print(\"its October\")\n",
    "        else:\n",
    "            print(\"Its November\")\n"
   ]
  },
  {
   "cell_type": "markdown",
   "id": "bcd8a500-0622-4ad9-a968-387023ceaebe",
   "metadata": {},
   "source": [
    "21.  Print the day of the week based on a number (1 for Monday, 2 for Tuesday, …, 7 for Sunday)."
   ]
  },
  {
   "cell_type": "code",
   "execution_count": 68,
   "id": "725c2874-33ca-4b3a-91f8-4a39a25f7fb1",
   "metadata": {},
   "outputs": [
    {
     "name": "stdin",
     "output_type": "stream",
     "text": [
      "Enter your number :  7\n"
     ]
    },
    {
     "name": "stdout",
     "output_type": "stream",
     "text": [
      "It is sunday\n"
     ]
    }
   ],
   "source": [
    "num = int(input(\"Enter your number : \"))\n",
    "\n",
    "if  num <= 0 or num >=8 :\n",
    "    print(\"PLease enter valid choice\") \n",
    "\n",
    "else:\n",
    "    if num ==1:\n",
    "        print(\"It is a Monday\")\n",
    "    elif num==2:\n",
    "        print(\"It is a Tuesday\")\n",
    "    elif num==3:\n",
    "        print(\"It is a Wednesday\")\n",
    "    elif num==4:\n",
    "        print(\"It is a Thursday\")\n",
    "    elif num==5:\n",
    "        print(\"It is a Friday\")\n",
    "    elif num==6:\n",
    "        print(\"It is a Saturday\")\n",
    "    else:\n",
    "        print(\"It is sunday\")"
   ]
  },
  {
   "cell_type": "markdown",
   "id": "1ee68144-ebee-4763-928f-32fde8977c9a",
   "metadata": {},
   "source": [
    "22. Assign a grade (A, B, C, D, F) based on marks:\n",
    "        \n",
    "        A: 90+\n",
    "        \n",
    "        B: 80–89\n",
    "        \n",
    "        C: 70–79\n",
    "        \n",
    "        D: 60–69\n",
    "        \n",
    "        F: Below 60"
   ]
  },
  {
   "cell_type": "code",
   "execution_count": 20,
   "id": "6db0ba4b-d6e7-4c73-8f54-3d68641dffc5",
   "metadata": {},
   "outputs": [
    {
     "name": "stdin",
     "output_type": "stream",
     "text": [
      "Enter your full name :  umang modak\n",
      "Enter your marks of subject_1 :  78\n",
      "Enter your marks of subject_2 :  87\n",
      "Enter your marks of subject_3 :  98\n",
      "Enter your marks of subject_4 :  89\n",
      "Enter your marks of subject_5 :  78\n"
     ]
    },
    {
     "name": "stdout",
     "output_type": "stream",
     "text": [
      "Percentage of the student : 86.0 % \n",
      "B Grade\n"
     ]
    }
   ],
   "source": [
    "student_name = str(input(\"Enter your full name : \"))\n",
    "\n",
    "subject_1 = int(input(\"Enter your marks of subject_1 : \"))\n",
    "\n",
    "subject_2 = int(input(\"Enter your marks of subject_2 : \"))\n",
    "\n",
    "subject_3 = int(input(\"Enter your marks of subject_3 : \"))\n",
    "\n",
    "subject_4 = int(input(\"Enter your marks of subject_4 : \"))\n",
    "\n",
    "subject_5 = int(input(\"Enter your marks of subject_5 : \"))\n",
    "\n",
    "total = subject_1 + subject_2 + subject_3 + subject_4 + subject_5\n",
    "\n",
    "percentage = (total / 5 ) \n",
    "\n",
    "print(f\"Percentage of the student : {percentage} % \")\n",
    "\n",
    "marks = percentage\n",
    "\n",
    "\n",
    "if marks >= 90:\n",
    "    print(\"A Grade\")\n",
    "\n",
    "elif 80 <= marks <=89:\n",
    "    print(\"B Grade\")\n",
    "\n",
    "elif 70 <= marks <=79:\n",
    "    print(\"C Grade\")\n",
    "\n",
    "elif 60 <= marks <=69:\n",
    "    print(\"D Grade\")\n",
    "\n",
    "else:\n",
    "    print(\"F Grade\")"
   ]
  },
  {
   "cell_type": "markdown",
   "id": "1dbdbd97-39a1-495b-9187-29874c6c9fda",
   "metadata": {},
   "source": [
    "23. Calculate ticket price based on age:\n",
    "\n",
    "        Below 5: Free\n",
    "        \n",
    "        5–17: ₹100\n",
    "        \n",
    "        18–59: ₹200\n",
    "        \n",
    "        60 and above: ₹50"
   ]
  },
  {
   "cell_type": "code",
   "execution_count": 22,
   "id": "99cbc56b-788a-4eae-ba25-d95943241234",
   "metadata": {},
   "outputs": [
    {
     "name": "stdin",
     "output_type": "stream",
     "text": [
      "Enter your age  2\n"
     ]
    },
    {
     "name": "stdout",
     "output_type": "stream",
     "text": [
      " Your entry is free !!!!\n"
     ]
    }
   ],
   "source": [
    "age = int(input(\"Enter your age \"))\n",
    "\n",
    "if age <= 5 :\n",
    "    print(\" Your entry is free !!!!\")\n",
    "\n",
    "elif 6 <= age <= 17 :\n",
    "    print(\" Your entry price is 100 Rupees\")\n",
    "\n",
    "elif 18 <= age <= 59 :\n",
    "    print(\" Your entry price is 200 Rupees\")\n",
    "\n",
    "else:\n",
    "    print(\"your entry price is 50 Rupees\")"
   ]
  },
  {
   "cell_type": "raw",
   "id": "75f77483-effb-41d6-b409-b779ffe5192d",
   "metadata": {},
   "source": [
    "24. Calculate electricity bill:\n",
    "\n",
    "        ≤ 100 units: ₹10 per unit\n",
    "        \n",
    "        101–300 units: ₹8 per unit\n",
    "        \n",
    "        300 units: ₹5 per unit"
   ]
  },
  {
   "cell_type": "code",
   "execution_count": 53,
   "id": "4c468f0a-e08e-45d7-8ac6-0322a7e8dc9b",
   "metadata": {},
   "outputs": [
    {
     "name": "stdin",
     "output_type": "stream",
     "text": [
      "Enter your input  500\n"
     ]
    },
    {
     "name": "stdout",
     "output_type": "stream",
     "text": [
      "Your electrciy bill is : 3000\n"
     ]
    }
   ],
   "source": [
    "bill = int(input(\"Enter your input \"))\n",
    "\n",
    "if bill < 100:\n",
    "    print(\"Your electrciy bill is :\", 5*bill)\n",
    "\n",
    "elif 100 <= bill <= 300:\n",
    "    \n",
    "    bills = (100* 10) + (bill - 100) * 5\n",
    "    print(\"Your electricity bill is :\",bills)\n",
    "\n",
    "else:\n",
    "     bills = (100 * 10) + (200* 5) + (bill - 300) * 5\n",
    "    \n",
    "     print(\"Your electrciy bill is :\",bills)\n",
    "    "
   ]
  },
  {
   "cell_type": "markdown",
   "id": "db6b31df-9757-41a2-9cb6-69270e7df3f0",
   "metadata": {},
   "source": [
    "### Solution of For Loop\n"
   ]
  },
  {
   "cell_type": "markdown",
   "id": "5924883c-fdc4-4306-afcd-ed89e7e6d25c",
   "metadata": {},
   "source": [
    "1.Print all even numbers from 1 to 50."
   ]
  },
  {
   "cell_type": "code",
   "execution_count": 60,
   "id": "659971a2-55e9-46db-a225-92947773ac75",
   "metadata": {},
   "outputs": [
    {
     "name": "stdout",
     "output_type": "stream",
     "text": [
      "The list of even number are :\n",
      "2\n",
      "4\n",
      "6\n",
      "8\n",
      "10\n",
      "12\n",
      "14\n",
      "16\n",
      "18\n",
      "20\n",
      "22\n",
      "24\n",
      "26\n",
      "28\n",
      "30\n",
      "32\n",
      "34\n",
      "36\n",
      "38\n",
      "40\n",
      "42\n",
      "44\n",
      "46\n",
      "48\n",
      "50\n"
     ]
    }
   ],
   "source": [
    "num = range(1,51)\n",
    "print(\"The list of even number are :\")\n",
    "for i in num:\n",
    "   \n",
    "    if i % 2==0:\n",
    "        print(i)\n",
    "    "
   ]
  },
  {
   "cell_type": "markdown",
   "id": "8280ff0a-d9ee-4a9f-ab77-2be1f1c5ddaa",
   "metadata": {},
   "source": [
    "2.Print all numbers divisible by 3 from 1 to 100."
   ]
  },
  {
   "cell_type": "code",
   "execution_count": 63,
   "id": "73b2c0ca-090d-4851-8fbd-cd583ccf8ce3",
   "metadata": {},
   "outputs": [
    {
     "name": "stdout",
     "output_type": "stream",
     "text": [
      "The number divisible by 3 are as follow :\n",
      "[3, 6, 9, 12, 15, 18, 21, 24, 27, 30, 33, 36, 39, 42, 45, 48, 51, 54, 57, 60, 63, 66, 69, 72, 75, 78, 81, 84, 87, 90, 93, 96, 99, 102, 105, 108, 111, 114, 117, 120, 123, 126, 129, 132, 135, 138, 141, 144, 147, 150, 153, 156, 159, 162, 165, 168, 171, 174, 177, 180, 183, 186, 189, 192, 195, 198, 201, 204, 207, 210, 213, 216, 219, 222, 225, 228, 231, 234, 237, 240, 243, 246, 249, 252, 255, 258, 261, 264, 267, 270, 273, 276, 279, 282, 285, 288, 291, 294, 297, 300]\n"
     ]
    }
   ],
   "source": [
    "num = range(1,301)\n",
    "print(\"The number divisible by 3 are as follow :\")\n",
    "list_1 = []\n",
    "for i in num:\n",
    "    if i % 3==0:\n",
    "        list_1.append(i)\n",
    "\n",
    "print(list_1)"
   ]
  },
  {
   "cell_type": "markdown",
   "id": "02fb57df-455e-4d4f-9629-b6372d168a9d",
   "metadata": {},
   "source": [
    "3.Print numbers from 1 to 20 and mark them as “Even” or “Odd”."
   ]
  },
  {
   "cell_type": "code",
   "execution_count": 66,
   "id": "eb668fd1-fc93-4542-8b6f-398d513862ff",
   "metadata": {},
   "outputs": [
    {
     "name": "stdout",
     "output_type": "stream",
     "text": [
      "1 is a odd number\n",
      "2 is a even number\n",
      "3 is a odd number\n",
      "4 is a even number\n",
      "5 is a odd number\n",
      "6 is a even number\n",
      "7 is a odd number\n",
      "8 is a even number\n",
      "9 is a odd number\n",
      "10 is a even number\n",
      "11 is a odd number\n",
      "12 is a even number\n",
      "13 is a odd number\n",
      "14 is a even number\n",
      "15 is a odd number\n",
      "16 is a even number\n",
      "17 is a odd number\n",
      "18 is a even number\n",
      "19 is a odd number\n",
      "20 is a even number\n"
     ]
    }
   ],
   "source": [
    "num = range(1,21)\n",
    "for i in num:\n",
    "    if i % 2 ==0:\n",
    "        print(i, \"is a even number\")\n",
    "    else:\n",
    "        print(i, \"is a odd number\")\n",
    "        "
   ]
  },
  {
   "cell_type": "markdown",
   "id": "19026961-bc05-4eab-a794-aa4e25c3417e",
   "metadata": {},
   "source": [
    "4. Print all vowels from a given string."
   ]
  },
  {
   "cell_type": "code",
   "execution_count": 75,
   "id": "463e0fa7-b698-4add-81aa-1cdef1fc8100",
   "metadata": {},
   "outputs": [
    {
     "name": "stdin",
     "output_type": "stream",
     "text": [
      "Enter your string :  modak\n"
     ]
    },
    {
     "name": "stdout",
     "output_type": "stream",
     "text": [
      "The vowel present in a string is :\n",
      "o\n",
      "a\n"
     ]
    }
   ],
   "source": [
    "string = str(input(\"Enter your string : \"))\n",
    "vowel = 'AEIOUaeiou'\n",
    "\n",
    "print(\"The vowel present in a string is :\")\n",
    "for char in string:\n",
    "    if char in vowel:\n",
    "        print(char)"
   ]
  },
  {
   "cell_type": "markdown",
   "id": "905babeb-f260-4987-b487-28fc67ff9f8c",
   "metadata": {},
   "source": [
    "5.Print all numbers from 1 to 50, but replace multiples of 3 with \"Fizz\" and multiples of 5 with \"Buzz\" (FizzBuzz)."
   ]
  },
  {
   "cell_type": "code",
   "execution_count": 84,
   "id": "94d6dcab-7082-48c5-8ea0-7dbccfcd9165",
   "metadata": {},
   "outputs": [
    {
     "name": "stdout",
     "output_type": "stream",
     "text": [
      "[1, 2, 'Fizz', 4, 'Buzz', 'Fizz', 7, 8, 'Fizz', 'Buzz', 11, 'Fizz', 13, 14, 'Fizz', 16, 17, 'Fizz', 19, 'Buzz', 'Fizz', 22, 23, 'Fizz', 'Buzz', 26, 'Fizz', 28, 29, 'Fizz', 31, 32, 'Fizz', 34, 'Buzz', 'Fizz', 37, 38, 'Fizz', 'Buzz', 41, 'Fizz', 43, 44, 'Fizz', 46, 47, 'Fizz', 49, 'Buzz']\n"
     ]
    }
   ],
   "source": [
    "number = range(1,51)\n",
    "\n",
    "list_1= []\n",
    "for i in number:\n",
    "    if i %3 ==0:\n",
    "        list_1.append(\"Fizz\")\n",
    "        #print(\"Fizz\")\n",
    "\n",
    "    elif i % 5==0:\n",
    "        list_1.append(\"Buzz\")\n",
    "        \n",
    "    else:\n",
    "        list_1.append(i)\n",
    "\n",
    "print(list_1)"
   ]
  },
  {
   "cell_type": "markdown",
   "id": "6414b3ff-7355-4219-92e1-bfe7c3810f8c",
   "metadata": {},
   "source": [
    "6.Print squares of all numbers from 1 to 20 that are greater than 10."
   ]
  },
  {
   "cell_type": "code",
   "execution_count": 86,
   "id": "deccdc33-1bfd-46eb-961b-911625a332ae",
   "metadata": {},
   "outputs": [
    {
     "name": "stdout",
     "output_type": "stream",
     "text": [
      "1\n",
      "2\n",
      "3\n",
      "4\n",
      "5\n",
      "6\n",
      "7\n",
      "8\n",
      "9\n",
      "10\n",
      "121\n",
      "144\n",
      "169\n",
      "196\n",
      "225\n",
      "256\n",
      "289\n",
      "324\n",
      "361\n",
      "400\n"
     ]
    }
   ],
   "source": [
    "for i in range(1,21):\n",
    "    if i > 10:\n",
    "        print(i**2)\n",
    "    else:\n",
    "        print(i)"
   ]
  },
  {
   "cell_type": "markdown",
   "id": "638fa6f0-c573-4fa9-ad9d-4b8c1b516ca0",
   "metadata": {},
   "source": [
    "7. Print numbers 1–30 and label them as “Prime” or “Not Prime”."
   ]
  },
  {
   "cell_type": "code",
   "execution_count": 87,
   "id": "0914b0b6-1cee-463c-9c1f-db4c03461807",
   "metadata": {},
   "outputs": [
    {
     "name": "stdout",
     "output_type": "stream",
     "text": [
      "1: Not Prime (by definition)\n",
      "2: Prime\n",
      "3: Prime\n",
      "4: Not Prime\n",
      "5: Prime\n",
      "6: Not Prime\n",
      "7: Prime\n",
      "8: Not Prime\n",
      "9: Not Prime\n",
      "10: Not Prime\n",
      "11: Prime\n",
      "12: Not Prime\n",
      "13: Prime\n",
      "14: Not Prime\n",
      "15: Not Prime\n",
      "16: Not Prime\n",
      "17: Prime\n",
      "18: Not Prime\n",
      "19: Prime\n",
      "20: Not Prime\n",
      "21: Not Prime\n",
      "22: Not Prime\n",
      "23: Prime\n",
      "24: Not Prime\n",
      "25: Not Prime\n",
      "26: Not Prime\n",
      "27: Not Prime\n",
      "28: Not Prime\n",
      "29: Prime\n",
      "30: Not Prime\n"
     ]
    }
   ],
   "source": [
    "for num in range(1, 31):\n",
    "    # Prime numbers are greater than 1\n",
    "    if num > 1:\n",
    "        # Assume the number is prime until a factor is found\n",
    "        is_prime = True\n",
    "        # Check for factors from 2 up to the number itself\n",
    "        for i in range(2, num):\n",
    "            if (num % i) == 0:\n",
    "                is_prime = False\n",
    "                break  # Exit the inner loop if a factor is found\n",
    "        \n",
    "        # After the inner loop, print the result based on the flag\n",
    "        if is_prime:\n",
    "            print(f\"{num}: Prime\")\n",
    "        else:\n",
    "            print(f\"{num}: Not Prime\")\n",
    "    else:\n",
    "        # Handle the special case for numbers less than or equal to 1\n",
    "        print(f\"{num}: Not Prime (by definition)\")\n"
   ]
  },
  {
   "cell_type": "markdown",
   "id": "afb006b2-25ae-47a4-b268-9e81e35d0103",
   "metadata": {},
   "source": [
    "8. Keep taking input from the user until they enter a number divisible by 7."
   ]
  },
  {
   "cell_type": "code",
   "execution_count": 95,
   "id": "46007c6f-2057-4a85-9403-ca314e9ed595",
   "metadata": {},
   "outputs": [
    {
     "name": "stdin",
     "output_type": "stream",
     "text": [
      "Enter a number:  3\n"
     ]
    },
    {
     "name": "stdout",
     "output_type": "stream",
     "text": [
      "3 is not divisible by 7. Please try again.\n"
     ]
    },
    {
     "name": "stdin",
     "output_type": "stream",
     "text": [
      "Enter a number:  23\n"
     ]
    },
    {
     "name": "stdout",
     "output_type": "stream",
     "text": [
      "23 is not divisible by 7. Please try again.\n"
     ]
    },
    {
     "name": "stdin",
     "output_type": "stream",
     "text": [
      "Enter a number:  2\n"
     ]
    },
    {
     "name": "stdout",
     "output_type": "stream",
     "text": [
      "2 is not divisible by 7. Please try again.\n"
     ]
    },
    {
     "name": "stdin",
     "output_type": "stream",
     "text": [
      "Enter a number:  \n"
     ]
    },
    {
     "name": "stdout",
     "output_type": "stream",
     "text": [
      "Invalid input. Please enter an integer.\n"
     ]
    },
    {
     "name": "stdin",
     "output_type": "stream",
     "text": [
      "Enter a number:  4\n"
     ]
    },
    {
     "name": "stdout",
     "output_type": "stream",
     "text": [
      "4 is not divisible by 7. Please try again.\n"
     ]
    },
    {
     "name": "stdin",
     "output_type": "stream",
     "text": [
      "Enter a number:  5\n"
     ]
    },
    {
     "name": "stdout",
     "output_type": "stream",
     "text": [
      "5 is not divisible by 7. Please try again.\n"
     ]
    },
    {
     "name": "stdin",
     "output_type": "stream",
     "text": [
      "Enter a number:  41\n"
     ]
    },
    {
     "name": "stdout",
     "output_type": "stream",
     "text": [
      "41 is not divisible by 7. Please try again.\n"
     ]
    },
    {
     "name": "stdin",
     "output_type": "stream",
     "text": [
      "Enter a number:  49\n"
     ]
    },
    {
     "name": "stdout",
     "output_type": "stream",
     "text": [
      "Thank you! 49 is divisible by 7.\n"
     ]
    }
   ],
   "source": [
    "while True:\n",
    "    try:\n",
    "        number = int(input(\"Enter a number: \"))\n",
    "      \n",
    "        if number % 7 == 0:\n",
    "            print(f\"Thank you! {number} is divisible by 7.\")\n",
    "            break  \n",
    "        else:\n",
    "            print(f\"{number} is not divisible by 7. Please try again.\")\n",
    "\n",
    "    except ValueError:\n",
    "        \n",
    "        print(\"Invalid input. Please enter an integer.\")"
   ]
  },
  {
   "cell_type": "code",
   "execution_count": null,
   "id": "77b0c6c3-c71e-4b4c-b740-5fe6a3c868a6",
   "metadata": {},
   "outputs": [],
   "source": []
  }
 ],
 "metadata": {
  "kernelspec": {
   "display_name": "Python 3 (ipykernel)",
   "language": "python",
   "name": "python3"
  },
  "language_info": {
   "codemirror_mode": {
    "name": "ipython",
    "version": 3
   },
   "file_extension": ".py",
   "mimetype": "text/x-python",
   "name": "python",
   "nbconvert_exporter": "python",
   "pygments_lexer": "ipython3",
   "version": "3.13.5"
  },
  "widgets": {
   "application/vnd.jupyter.widget-state+json": {
    "state": {},
    "version_major": 2,
    "version_minor": 0
   }
  }
 },
 "nbformat": 4,
 "nbformat_minor": 5
}
