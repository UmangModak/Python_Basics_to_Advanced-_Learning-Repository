{
 "cells": [
  {
   "cell_type": "markdown",
   "id": "a207dbd1-cb79-41cc-864b-6f64ce7027f5",
   "metadata": {},
   "source": [
    "### File handling : it means reading some file writng some file by using python. \n",
    "\n",
    "it helps to store data permanently.\n",
    "\n",
    "in python we open() function to open any file"
   ]
  },
  {
   "cell_type": "code",
   "execution_count": 1,
   "id": "21422427-f8e4-460d-87ce-88810fe08d09",
   "metadata": {},
   "outputs": [],
   "source": [
    "f = open(\"python.txt\",\"r\")"
   ]
  },
  {
   "cell_type": "code",
   "execution_count": 4,
   "id": "5f4a5ab7-aed3-47b5-a4f0-2c71db12952a",
   "metadata": {},
   "outputs": [
    {
     "name": "stdout",
     "output_type": "stream",
     "text": [
      "\n",
      "today is ganesh chaturthi\n",
      "todays weather is good for walking\n"
     ]
    }
   ],
   "source": [
    "print(f.read())"
   ]
  },
  {
   "cell_type": "code",
   "execution_count": null,
   "id": "8e5a83fe-af1a-4203-895a-9b027c1229d9",
   "metadata": {},
   "outputs": [],
   "source": []
  },
  {
   "cell_type": "code",
   "execution_count": 7,
   "id": "6f77cfea-f479-4974-ade3-69db64dd59be",
   "metadata": {},
   "outputs": [],
   "source": [
    "file = open(\"file.txt\",\"w\")\n",
    "file.write(\"this is a file \\n \")\n",
    "file.write(\"hello good evening all\")\n",
    "file.close()"
   ]
  },
  {
   "cell_type": "code",
   "execution_count": 14,
   "id": "3a5bdf91-6d72-4306-be93-4185b63a37b0",
   "metadata": {},
   "outputs": [
    {
     "data": {
      "text/plain": [
       "'this is a file \\nhello good evening all todays weather is good for walking '"
      ]
     },
     "execution_count": 14,
     "metadata": {},
     "output_type": "execute_result"
    }
   ],
   "source": [
    "file = open(\"file.txt\",\"r\")\n",
    "file.read()\n"
   ]
  },
  {
   "cell_type": "code",
   "execution_count": 10,
   "id": "3c8434f9-6652-4f50-9f0d-3a09d7e6ce4b",
   "metadata": {},
   "outputs": [],
   "source": [
    "file.close()"
   ]
  },
  {
   "cell_type": "code",
   "execution_count": 15,
   "id": "e477eaa9-9b72-46f4-a5a5-26acca8311f8",
   "metadata": {},
   "outputs": [],
   "source": [
    "file = open(\"file.txt\",\"w\")\n",
    "file.close()"
   ]
  },
  {
   "cell_type": "code",
   "execution_count": 16,
   "id": "dbcd5527-0f22-4496-a536-fcee6cbe98d8",
   "metadata": {},
   "outputs": [],
   "source": [
    "import os \n",
    "os.remove(\"file.txt\")"
   ]
  },
  {
   "cell_type": "code",
   "execution_count": null,
   "id": "00fe72e8-cf00-4716-9343-4917ad50710e",
   "metadata": {},
   "outputs": [],
   "source": []
  },
  {
   "cell_type": "code",
   "execution_count": 17,
   "id": "b1205a15-38e4-4800-9619-10b9c371c37b",
   "metadata": {},
   "outputs": [],
   "source": [
    "file = open(\"file.txt\",\"w\")\n",
    "file.write(\" todays weather is good for walking\")\n",
    "file.close()"
   ]
  },
  {
   "cell_type": "code",
   "execution_count": 20,
   "id": "06054da9-514b-4396-a01d-aa4edbde3c52",
   "metadata": {},
   "outputs": [
    {
     "ename": "AttributeError",
     "evalue": "'_io.TextIOWrapper' object has no attribute 'replace'",
     "output_type": "error",
     "traceback": [
      "\u001b[31m---------------------------------------------------------------------------\u001b[39m",
      "\u001b[31mAttributeError\u001b[39m                            Traceback (most recent call last)",
      "\u001b[36mCell\u001b[39m\u001b[36m \u001b[39m\u001b[32mIn[20]\u001b[39m\u001b[32m, line 3\u001b[39m\n\u001b[32m      1\u001b[39m file = \u001b[38;5;28mopen\u001b[39m(\u001b[33m\"\u001b[39m\u001b[33mfile.txt\u001b[39m\u001b[33m\"\u001b[39m,\u001b[33m\"\u001b[39m\u001b[33mr\u001b[39m\u001b[33m\"\u001b[39m)\n\u001b[32m      2\u001b[39m file.read()\n\u001b[32m----> \u001b[39m\u001b[32m3\u001b[39m file=\u001b[43mfile\u001b[49m\u001b[43m.\u001b[49m\u001b[43mreplace\u001b[49m(\u001b[33m\"\u001b[39m\u001b[33mtodays\u001b[39m\u001b[33m\"\u001b[39m,\u001b[33m\"\u001b[39m\u001b[33mToday\u001b[39m\u001b[33m'\u001b[39m\u001b[33ms\u001b[39m\u001b[33m\"\u001b[39m)\n",
      "\u001b[31mAttributeError\u001b[39m: '_io.TextIOWrapper' object has no attribute 'replace'"
     ]
    }
   ],
   "source": [
    "file = open(\"file.txt\",\"r\")\n",
    "file.read()\n"
   ]
  },
  {
   "cell_type": "code",
   "execution_count": null,
   "id": "a42761c1-d733-4a92-b527-6f514679f64b",
   "metadata": {},
   "outputs": [],
   "source": [
    "Today's"
   ]
  },
  {
   "cell_type": "code",
   "execution_count": null,
   "id": "826eb412-fccc-482f-983b-eaf3988d00c8",
   "metadata": {},
   "outputs": [],
   "source": []
  },
  {
   "cell_type": "code",
   "execution_count": null,
   "id": "9bb5f2d8-8ba9-46fd-9266-ed68e20e28d3",
   "metadata": {},
   "outputs": [],
   "source": []
  },
  {
   "cell_type": "code",
   "execution_count": 27,
   "id": "90613ee9-4de8-4261-9d0e-c6bd6dfcb2ba",
   "metadata": {},
   "outputs": [
    {
     "ename": "NameError",
     "evalue": "name 'data1' is not defined",
     "output_type": "error",
     "traceback": [
      "\u001b[31m---------------------------------------------------------------------------\u001b[39m",
      "\u001b[31mNameError\u001b[39m                                 Traceback (most recent call last)",
      "\u001b[36mCell\u001b[39m\u001b[36m \u001b[39m\u001b[32mIn[27]\u001b[39m\u001b[32m, line 2\u001b[39m\n\u001b[32m      1\u001b[39m data = \u001b[38;5;28mopen\u001b[39m(\u001b[33m\"\u001b[39m\u001b[33mfile.txt\u001b[39m\u001b[33m\"\u001b[39m,\u001b[33m\"\u001b[39m\u001b[33mr\u001b[39m\u001b[33m\"\u001b[39m)\n\u001b[32m----> \u001b[39m\u001b[32m2\u001b[39m data1 = \u001b[43mdata1\u001b[49m.replace(\u001b[33m\"\u001b[39m\u001b[33mtodays\u001b[39m\u001b[33m\"\u001b[39m,\u001b[33m\"\u001b[39m\u001b[33m\"\u001b[39m)\n\u001b[32m      4\u001b[39m data2 = \u001b[38;5;28mopen\u001b[39m(\u001b[33m\"\u001b[39m\u001b[33mfile.txt\u001b[39m\u001b[33m\"\u001b[39m,\u001b[33m\"\u001b[39m\u001b[33mw\u001b[39m\u001b[33m\"\u001b[39m)\n\u001b[32m      5\u001b[39m data2.write(data1)\n",
      "\u001b[31mNameError\u001b[39m: name 'data1' is not defined"
     ]
    }
   ],
   "source": [
    "data = open(\"file.txt\",\"r\")\n",
    "\n",
    "data1 = data1.replace(\"todays\",\"\")\n",
    "\n",
    "data2 = open(\"file.txt\",\"w\")\n",
    "data2.write(data1)"
   ]
  },
  {
   "cell_type": "code",
   "execution_count": 28,
   "id": "086ca31a-8477-46c6-a9ae-0347b1058015",
   "metadata": {},
   "outputs": [],
   "source": [
    "with open(\"file.txt\",\"r\") as file:\n",
    "    data = file.read()\n",
    "\n",
    "\n",
    "data = data.replace(\"todays\",\" \")\n",
    "\n",
    "with open(\"file.txt\",\"w\") as file:\n",
    "    data = file.write(data)\n"
   ]
  },
  {
   "cell_type": "code",
   "execution_count": 29,
   "id": "c018cb5d-af5e-4bf8-b80a-556bbf995c57",
   "metadata": {},
   "outputs": [
    {
     "data": {
      "text/plain": [
       "'   weather is good for walking'"
      ]
     },
     "execution_count": 29,
     "metadata": {},
     "output_type": "execute_result"
    }
   ],
   "source": [
    "file = open(\"file.txt\",\"r\")\n",
    "file.read()\n"
   ]
  },
  {
   "cell_type": "code",
   "execution_count": 32,
   "id": "a4cfc6c8-6a7f-409b-b5c9-98ecf9b11375",
   "metadata": {},
   "outputs": [
    {
     "name": "stdout",
     "output_type": "stream",
     "text": [
      "   weather is good for walking\n"
     ]
    }
   ],
   "source": [
    "with open(\"file.txt\",\"r\") as a:\n",
    "    a = a.read()\n",
    "    print(a)\n",
    "    "
   ]
  },
  {
   "cell_type": "code",
   "execution_count": 33,
   "id": "5587fb23-6d6b-460e-86fe-a616dd8c9fdb",
   "metadata": {},
   "outputs": [
    {
     "name": "stdout",
     "output_type": "stream",
     "text": [
      "after merging text \n",
      "\n"
     ]
    }
   ],
   "source": [
    "merge_file = ['file.txt','python.txt']\n",
    "\n",
    "with open(\"merge.txt\",\"w\") as a:\n",
    "    for line in merge_file:\n",
    "        with open(line,\"r\") as b:\n",
    "            a.write(b.read())\n",
    "            a.write(\"\\n\")\n",
    "\n",
    "print(\"after merging text \\n\")"
   ]
  },
  {
   "cell_type": "code",
   "execution_count": 34,
   "id": "1a1e9bd5-157e-492e-ac8a-a1803079c6a7",
   "metadata": {},
   "outputs": [],
   "source": [
    "with open(\"python.txt\",\"w\") as a:\n",
    "    with open(\"file.txt\",\"r\") as b:\n",
    "        a.write(b.read())\n",
    "        \n",
    "    "
   ]
  },
  {
   "cell_type": "code",
   "execution_count": 36,
   "id": "346e5956-2179-4441-9109-34ad9c374453",
   "metadata": {},
   "outputs": [
    {
     "data": {
      "text/plain": [
       "'merge.txt'"
      ]
     },
     "execution_count": 36,
     "metadata": {},
     "output_type": "execute_result"
    }
   ],
   "source": [
    "import shutil\n",
    "\n",
    "shutil.copy('python.txt','merge.txt')\n"
   ]
  },
  {
   "cell_type": "code",
   "execution_count": null,
   "id": "37300151-9a49-49b4-8d28-8bc7c25851f2",
   "metadata": {},
   "outputs": [],
   "source": [
    "student.txt \n",
    "name : marks\n",
    "raj : 45\n"
   ]
  },
  {
   "cell_type": "code",
   "execution_count": 44,
   "id": "dcc727e7-60d1-4925-b71b-213624e4834f",
   "metadata": {},
   "outputs": [
    {
     "name": "stdout",
     "output_type": "stream",
     "text": [
      "umang: 21raj: 24rohit: 21 \n",
      "rajesh: 24 \n",
      " \n"
     ]
    }
   ],
   "source": [
    "with open(\"student.txt\",\"w\") as a:\n",
    "    a.write(\"umang: 21\")\n",
    "    a.write(\"raj: 24\")\n",
    "    a.close()\n",
    "\n",
    "with open(\"student.txt\",\"r\") as b:\n",
    "    b = b.read()\n",
    "    #print(b)\n",
    "\n",
    "with open(\"student.txt\",\"a\") as a:\n",
    "    a.write(\"rohit: 21 \\n\")\n",
    "    a.write(\"rajesh: 24 \\n \")\n",
    "    a.close()\n",
    "\n",
    "\n",
    "with open(\"student.txt\",\"r\") as b:\n",
    "    b = b.read()\n",
    "    print(b)"
   ]
  },
  {
   "cell_type": "code",
   "execution_count": null,
   "id": "4144bcda-85f5-40f8-bf6b-3cae334d40b3",
   "metadata": {},
   "outputs": [],
   "source": [
    "car : yom\n",
    "tata: 2020"
   ]
  }
 ],
 "metadata": {
  "kernelspec": {
   "display_name": "Python 3 (ipykernel)",
   "language": "python",
   "name": "python3"
  },
  "language_info": {
   "codemirror_mode": {
    "name": "ipython",
    "version": 3
   },
   "file_extension": ".py",
   "mimetype": "text/x-python",
   "name": "python",
   "nbconvert_exporter": "python",
   "pygments_lexer": "ipython3",
   "version": "3.13.5"
  },
  "widgets": {
   "application/vnd.jupyter.widget-state+json": {
    "state": {},
    "version_major": 2,
    "version_minor": 0
   }
  }
 },
 "nbformat": 4,
 "nbformat_minor": 5
}
