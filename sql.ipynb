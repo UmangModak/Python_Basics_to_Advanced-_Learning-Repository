{
 "cells": [
  {
   "cell_type": "code",
   "execution_count": null,
   "id": "c727a1f9-beab-4a23-8c2c-8093b9d1abf8",
   "metadata": {},
   "outputs": [],
   "source": [
    "pip install sqlalchemy : terminal \n",
    "!pip install sqlaclemy : jupyter cell"
   ]
  },
  {
   "cell_type": "code",
   "execution_count": 1,
   "id": "2ff3fdac-d08b-4b10-a207-487d3427cc7e",
   "metadata": {},
   "outputs": [],
   "source": [
    "import sqlalchemy "
   ]
  },
  {
   "cell_type": "code",
   "execution_count": 2,
   "id": "8dc59799-0362-4fc9-a7fa-f2f31ffa5e7e",
   "metadata": {},
   "outputs": [],
   "source": [
    "from sqlalchemy import create_engine , Column, String , Integer\n",
    "#from sqlalchemy import create_engine\n",
    "#from sqlalchemy import Column\n",
    "#from sqlalchemy import string\n",
    "#from sqlalchemy import Integer"
   ]
  },
  {
   "cell_type": "code",
   "execution_count": 3,
   "id": "843adbbf-b8ab-41ba-b4ad-4cb8482d5415",
   "metadata": {},
   "outputs": [],
   "source": [
    "from sqlalchemy.orm import declarative_base # to  create a base for our databse "
   ]
  },
  {
   "cell_type": "code",
   "execution_count": 4,
   "id": "0dedc6eb-a887-48e8-9c04-65f22da81fe6",
   "metadata": {},
   "outputs": [],
   "source": [
    "engine = create_engine(\"sqlite:///students.db\",echo =True)"
   ]
  },
  {
   "cell_type": "code",
   "execution_count": 5,
   "id": "a28f6d6f-a65f-4051-a36f-a37f9f24357d",
   "metadata": {},
   "outputs": [],
   "source": [
    "Base = declarative_base() #all the tables are inherited from this base"
   ]
  },
  {
   "cell_type": "code",
   "execution_count": 6,
   "id": "ee939aba-9a6e-45c0-b94b-963f22b01e86",
   "metadata": {},
   "outputs": [],
   "source": [
    "class Student(Base):\n",
    "    __tablename__ = \"students\"       # table name in database\n",
    "\n",
    "    id = Column(Integer, primary_key=True) # school/1  # primary key column\n",
    "    name = Column(String, nullable=False)    # name column (required)\n",
    "    age = Column(Integer)                    # age column\n",
    "    grade = Column(String, default=\"A\")      # grade column with default value\n",
    "\n",
    "    def __repr__(self):\n",
    "        return f\"<Student(id={self.id}, name={self.name}, age={self.age}, grade={self.grade})>\"\n",
    "# 2,rohit , 33, a"
   ]
  },
  {
   "cell_type": "code",
   "execution_count": 7,
   "id": "902d444b-00d2-42b1-9337-79a1cddb6857",
   "metadata": {},
   "outputs": [
    {
     "name": "stdout",
     "output_type": "stream",
     "text": [
      "2025-08-29 14:08:37,432 INFO sqlalchemy.engine.Engine BEGIN (implicit)\n",
      "2025-08-29 14:08:37,435 INFO sqlalchemy.engine.Engine PRAGMA main.table_info(\"students\")\n",
      "2025-08-29 14:08:37,437 INFO sqlalchemy.engine.Engine [raw sql] ()\n",
      "2025-08-29 14:08:37,441 INFO sqlalchemy.engine.Engine PRAGMA temp.table_info(\"students\")\n",
      "2025-08-29 14:08:37,444 INFO sqlalchemy.engine.Engine [raw sql] ()\n",
      "2025-08-29 14:08:37,447 INFO sqlalchemy.engine.Engine \n",
      "CREATE TABLE students (\n",
      "\tid INTEGER NOT NULL, \n",
      "\tname VARCHAR NOT NULL, \n",
      "\tage INTEGER, \n",
      "\tgrade VARCHAR, \n",
      "\tPRIMARY KEY (id)\n",
      ")\n",
      "\n",
      "\n",
      "2025-08-29 14:08:37,448 INFO sqlalchemy.engine.Engine [no key 0.00153s] ()\n",
      "2025-08-29 14:08:37,461 INFO sqlalchemy.engine.Engine COMMIT\n"
     ]
    }
   ],
   "source": [
    "# Create the \"students\" table inside students.db\n",
    "Base.metadata.create_all(engine)\n"
   ]
  },
  {
   "cell_type": "code",
   "execution_count": 11,
   "id": "38b39776-d974-4c5a-a571-f577e73d2c10",
   "metadata": {},
   "outputs": [],
   "source": [
    "from sqlalchemy.orm import sessionmaker"
   ]
  },
  {
   "cell_type": "code",
   "execution_count": 12,
   "id": "9c19d8d5-0831-4135-a327-05a3d4c928cc",
   "metadata": {},
   "outputs": [],
   "source": [
    "# Create a session factory and a session object\n",
    "Session = sessionmaker(bind=engine)\n",
    "session = Session()\n"
   ]
  },
  {
   "cell_type": "code",
   "execution_count": 13,
   "id": "c62bd01e-947f-43a4-ad0a-0b9d8c49b0ca",
   "metadata": {},
   "outputs": [
    {
     "name": "stdout",
     "output_type": "stream",
     "text": [
      "2025-08-29 14:10:29,844 INFO sqlalchemy.engine.Engine BEGIN (implicit)\n",
      "2025-08-29 14:10:29,850 INFO sqlalchemy.engine.Engine INSERT INTO students (name, age, grade) VALUES (?, ?, ?) RETURNING id\n",
      "2025-08-29 14:10:29,852 INFO sqlalchemy.engine.Engine [generated in 0.00027s (insertmanyvalues) 1/2 (ordered; batch not supported)] ('Alice', 20, 'A')\n",
      "2025-08-29 14:10:30,209 INFO sqlalchemy.engine.Engine INSERT INTO students (name, age, grade) VALUES (?, ?, ?) RETURNING id\n",
      "2025-08-29 14:10:30,211 INFO sqlalchemy.engine.Engine [insertmanyvalues 2/2 (ordered; batch not supported)] ('Bob', 22, 'B')\n",
      "2025-08-29 14:10:30,214 INFO sqlalchemy.engine.Engine COMMIT\n"
     ]
    }
   ],
   "source": [
    "# Create new students (Python objects)\n",
    "student1 = Student(name=\"Alice\", age=20, grade=\"A\")\n",
    "student2 = Student(name=\"Bob\", age=22, grade=\"B\")\n",
    "\n",
    "# Add them to the session\n",
    "session.add(student1)\n",
    "session.add(student2)\n",
    "\n",
    "# Save (commit) changes into database\n",
    "session.commit()\n"
   ]
  },
  {
   "cell_type": "code",
   "execution_count": 15,
   "id": "675226db-3c14-4eec-83b8-15f78b165f4d",
   "metadata": {},
   "outputs": [
    {
     "name": "stdout",
     "output_type": "stream",
     "text": [
      "2025-08-29 14:11:02,681 INFO sqlalchemy.engine.Engine SELECT students.id AS students_id, students.name AS students_name, students.age AS students_age, students.grade AS students_grade \n",
      "FROM students\n",
      "2025-08-29 14:11:02,684 INFO sqlalchemy.engine.Engine [cached since 10.11s ago] ()\n",
      "All Students: [<Student(id=1, name=Alice, age=20, grade=A)>, <Student(id=2, name=Bob, age=22, grade=B)>]\n"
     ]
    }
   ],
   "source": [
    "# Get all students\n",
    "all_students = session.query(Student).all()\n",
    "print(\"All Students:\", all_students)\n"
   ]
  },
  {
   "cell_type": "code",
   "execution_count": 16,
   "id": "a1f519ed-c0e5-4a2d-87da-ba47aa793fed",
   "metadata": {},
   "outputs": [
    {
     "name": "stdout",
     "output_type": "stream",
     "text": [
      "2025-08-29 14:11:13,216 INFO sqlalchemy.engine.Engine SELECT students.id AS students_id, students.name AS students_name, students.age AS students_age, students.grade AS students_grade \n",
      "FROM students \n",
      "WHERE students.age < ?\n",
      "2025-08-29 14:11:13,219 INFO sqlalchemy.engine.Engine [cached since 20.64s ago] (21,)\n",
      "Students age < 21: [<Student(id=1, name=Alice, age=20, grade=A)>]\n"
     ]
    }
   ],
   "source": [
    "# Filter students younger than 21\n",
    "young_students = session.query(Student).filter(Student.age < 21).all()\n",
    "print(\"Students age < 21:\", young_students)\n",
    "\n"
   ]
  },
  {
   "cell_type": "code",
   "execution_count": 17,
   "id": "2ae9b65a-faa4-40d8-a986-bfe949239164",
   "metadata": {},
   "outputs": [
    {
     "name": "stdout",
     "output_type": "stream",
     "text": [
      "2025-08-29 14:11:20,980 INFO sqlalchemy.engine.Engine SELECT students.id AS students_id, students.name AS students_name, students.age AS students_age, students.grade AS students_grade \n",
      "FROM students\n",
      " LIMIT ? OFFSET ?\n",
      "2025-08-29 14:11:20,982 INFO sqlalchemy.engine.Engine [cached since 28.39s ago] (1, 0)\n",
      "First student: <Student(id=1, name=Alice, age=20, grade=A)>\n"
     ]
    }
   ],
   "source": [
    "# Get first student\n",
    "first_student = session.query(Student).first()\n",
    "print(\"First student:\", first_student)"
   ]
  },
  {
   "cell_type": "code",
   "execution_count": 18,
   "id": "917af6d9-2bbc-4b87-aa11-a0729392865d",
   "metadata": {},
   "outputs": [
    {
     "name": "stdout",
     "output_type": "stream",
     "text": [
      "2025-08-29 14:11:34,955 INFO sqlalchemy.engine.Engine SELECT students.id AS students_id, students.name AS students_name, students.age AS students_age, students.grade AS students_grade \n",
      "FROM students \n",
      "WHERE students.name = ?\n",
      " LIMIT ? OFFSET ?\n",
      "2025-08-29 14:11:34,957 INFO sqlalchemy.engine.Engine [generated in 0.00194s] ('Alice', 1, 0)\n",
      "2025-08-29 14:11:34,963 INFO sqlalchemy.engine.Engine UPDATE students SET age=? WHERE students.id = ?\n",
      "2025-08-29 14:11:34,965 INFO sqlalchemy.engine.Engine [generated in 0.00193s] (21, 1)\n",
      "2025-08-29 14:11:34,970 INFO sqlalchemy.engine.Engine COMMIT\n"
     ]
    }
   ],
   "source": [
    "# Find Alice\n",
    "alice = session.query(Student).filter_by(name=\"Alice\").first()\n",
    "\n",
    "# Update Alice's age\n",
    "alice.age = 21\n",
    "\n",
    "# Commit changes\n",
    "session.commit()\n"
   ]
  },
  {
   "cell_type": "code",
   "execution_count": 19,
   "id": "0cd0651c-95f2-4b9c-9451-a07c2691f604",
   "metadata": {},
   "outputs": [
    {
     "name": "stdout",
     "output_type": "stream",
     "text": [
      "2025-08-29 14:11:53,894 INFO sqlalchemy.engine.Engine BEGIN (implicit)\n",
      "2025-08-29 14:11:53,896 INFO sqlalchemy.engine.Engine SELECT students.id AS students_id, students.name AS students_name, students.age AS students_age, students.grade AS students_grade \n",
      "FROM students\n",
      "2025-08-29 14:11:53,898 INFO sqlalchemy.engine.Engine [cached since 61.33s ago] ()\n",
      "All Students: [<Student(id=1, name=Alice, age=21, grade=A)>, <Student(id=2, name=Bob, age=22, grade=B)>]\n"
     ]
    }
   ],
   "source": [
    "all_students = session.query(Student).all()\n",
    "print(\"All Students:\", all_students)\n"
   ]
  },
  {
   "cell_type": "code",
   "execution_count": 20,
   "id": "72dba784-ee86-4f0d-8970-38532e69c4a6",
   "metadata": {},
   "outputs": [
    {
     "name": "stdout",
     "output_type": "stream",
     "text": [
      "2025-08-29 14:12:03,950 INFO sqlalchemy.engine.Engine INSERT INTO students (name, age, grade) VALUES (?, ?, ?)\n",
      "2025-08-29 14:12:03,953 INFO sqlalchemy.engine.Engine [generated in 0.00276s] ('Charlie', 19, 'C')\n",
      "2025-08-29 14:12:03,958 INFO sqlalchemy.engine.Engine COMMIT\n",
      "2025-08-29 14:12:03,969 INFO sqlalchemy.engine.Engine BEGIN (implicit)\n",
      "2025-08-29 14:12:03,975 INFO sqlalchemy.engine.Engine SELECT students.id AS students_id, students.name AS students_name, students.age AS students_age, students.grade AS students_grade \n",
      "FROM students \n",
      "WHERE students.id = ?\n",
      "2025-08-29 14:12:03,977 INFO sqlalchemy.engine.Engine [generated in 0.00284s] (3,)\n",
      "2025-08-29 14:12:03,982 INFO sqlalchemy.engine.Engine DELETE FROM students WHERE students.id = ?\n",
      "2025-08-29 14:12:03,984 INFO sqlalchemy.engine.Engine [generated in 0.00168s] (3,)\n",
      "2025-08-29 14:12:03,989 INFO sqlalchemy.engine.Engine COMMIT\n"
     ]
    }
   ],
   "source": [
    "# Create a student to delete\n",
    "charlie = Student(name=\"Charlie\", age=19, grade=\"C\")\n",
    "session.add(charlie)\n",
    "session.commit()\n",
    "\n",
    "# Delete Charlie\n",
    "session.delete(charlie)\n",
    "session.commit()\n"
   ]
  },
  {
   "cell_type": "code",
   "execution_count": 24,
   "id": "8e53349c-5169-4e5f-a45c-eaebadeb1f9d",
   "metadata": {},
   "outputs": [
    {
     "name": "stdout",
     "output_type": "stream",
     "text": [
      "2025-08-29 14:16:18,937 INFO sqlalchemy.engine.Engine ROLLBACK\n"
     ]
    }
   ],
   "source": [
    "session.close()\n"
   ]
  },
  {
   "cell_type": "code",
   "execution_count": 22,
   "id": "0dbc28da-233a-4251-9ea5-65d630765abf",
   "metadata": {},
   "outputs": [
    {
     "name": "stdout",
     "output_type": "stream",
     "text": [
      "2025-08-29 14:15:58,631 INFO sqlalchemy.engine.Engine BEGIN (implicit)\n",
      "2025-08-29 14:15:58,634 INFO sqlalchemy.engine.Engine PRAGMA main.table_info(\"students\")\n",
      "2025-08-29 14:15:58,635 INFO sqlalchemy.engine.Engine [raw sql] ()\n",
      "2025-08-29 14:15:58,639 INFO sqlalchemy.engine.Engine COMMIT\n"
     ]
    }
   ],
   "source": [
    "Base.metadata.create_all(engine)"
   ]
  },
  {
   "cell_type": "code",
   "execution_count": 25,
   "id": "b0d2a84b-4e4d-4ab0-a1e2-70e32e55edf8",
   "metadata": {},
   "outputs": [
    {
     "name": "stdout",
     "output_type": "stream",
     "text": [
      "2025-08-29 14:16:24,840 INFO sqlalchemy.engine.Engine BEGIN (implicit)\n",
      "2025-08-29 14:16:24,842 INFO sqlalchemy.engine.Engine SELECT students.id AS students_id, students.name AS students_name, students.age AS students_age, students.grade AS students_grade \n",
      "FROM students\n",
      "2025-08-29 14:16:24,843 INFO sqlalchemy.engine.Engine [cached since 332.3s ago] ()\n",
      "All Students: [<Student(id=1, name=Alice, age=21, grade=A)>, <Student(id=2, name=Bob, age=22, grade=B)>]\n"
     ]
    }
   ],
   "source": [
    "all_students = session.query(Student).all()\n",
    "print(\"All Students:\", all_students)\n"
   ]
  },
  {
   "cell_type": "code",
   "execution_count": null,
   "id": "2ad95598-6e17-46a9-a5f9-0f1c3fa3d4a4",
   "metadata": {},
   "outputs": [],
   "source": []
  }
 ],
 "metadata": {
  "kernelspec": {
   "display_name": "Python 3 (ipykernel)",
   "language": "python",
   "name": "python3"
  },
  "language_info": {
   "codemirror_mode": {
    "name": "ipython",
    "version": 3
   },
   "file_extension": ".py",
   "mimetype": "text/x-python",
   "name": "python",
   "nbconvert_exporter": "python",
   "pygments_lexer": "ipython3",
   "version": "3.13.5"
  },
  "widgets": {
   "application/vnd.jupyter.widget-state+json": {
    "state": {},
    "version_major": 2,
    "version_minor": 0
   }
  }
 },
 "nbformat": 4,
 "nbformat_minor": 5
}
