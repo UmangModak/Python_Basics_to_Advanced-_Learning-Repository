{
 "cells": [
  {
   "cell_type": "code",
   "execution_count": 1,
   "id": "cef8600f-58ed-4024-afd0-afba4c81435b",
   "metadata": {},
   "outputs": [
    {
     "name": "stdout",
     "output_type": "stream",
     "text": [
      "Numpu Practice series part 1\n"
     ]
    }
   ],
   "source": [
    "print(\"Numpu Practice series part 1\")"
   ]
  },
  {
   "cell_type": "code",
   "execution_count": 2,
   "id": "1b13d338-a284-4a02-9adf-45b62418fe76",
   "metadata": {},
   "outputs": [],
   "source": [
    "import numpy as np"
   ]
  },
  {
   "cell_type": "code",
   "execution_count": 3,
   "id": "0ad9abe9-b2bd-434e-977c-bd6893ee8f62",
   "metadata": {},
   "outputs": [],
   "source": [
    "arr1 = np.arange(10)"
   ]
  },
  {
   "cell_type": "code",
   "execution_count": 4,
   "id": "e6840992-0dd8-4ee0-ad72-97aa5a2d6b39",
   "metadata": {},
   "outputs": [
    {
     "name": "stdout",
     "output_type": "stream",
     "text": [
      "[0 1 2 3 4 5 6 7 8 9]\n"
     ]
    }
   ],
   "source": [
    "print(arr1)"
   ]
  },
  {
   "cell_type": "code",
   "execution_count": 5,
   "id": "bc741dae-caa3-49cf-b20d-32d112bb7518",
   "metadata": {},
   "outputs": [
    {
     "name": "stdout",
     "output_type": "stream",
     "text": [
      "[[ 1  2  3  4  5  6]\n",
      " [ 7  8  9 10 11 12]\n",
      " [13 14 15 16 17 18]\n",
      " [19 20 21 22 23 24]\n",
      " [25 26 27 28 29 30]]\n"
     ]
    }
   ],
   "source": [
    "arr2 = np.arange(1,31).reshape(5,6)\n",
    "print(arr2)"
   ]
  },
  {
   "cell_type": "code",
   "execution_count": 6,
   "id": "63ae07d6-d807-4f89-b18a-1f3101098ddf",
   "metadata": {},
   "outputs": [
    {
     "name": "stdout",
     "output_type": "stream",
     "text": [
      "[[32 33 34 35 36 37]\n",
      " [38 39 40 41 42 43]\n",
      " [44 45 46 47 48 49]\n",
      " [50 51 52 53 54 55]\n",
      " [56 57 58 59 60 61]]\n"
     ]
    }
   ],
   "source": [
    "arr3 = np.arange(32,62).reshape(5,6)\n",
    "print(arr3)"
   ]
  },
  {
   "cell_type": "markdown",
   "id": "b2874f32-de7f-4c9b-be86-9b6db6937852",
   "metadata": {},
   "source": [
    "# now checking dimension\n"
   ]
  },
  {
   "cell_type": "code",
   "execution_count": 7,
   "id": "ce44a427-890d-4674-a99c-57a31a5a3bb7",
   "metadata": {},
   "outputs": [
    {
     "data": {
      "text/plain": [
       "1"
      ]
     },
     "execution_count": 7,
     "metadata": {},
     "output_type": "execute_result"
    }
   ],
   "source": [
    "arr1.ndim"
   ]
  },
  {
   "cell_type": "code",
   "execution_count": 8,
   "id": "3691bdb1-244d-40dc-bd14-10a2a21d015f",
   "metadata": {},
   "outputs": [
    {
     "data": {
      "text/plain": [
       "2"
      ]
     },
     "execution_count": 8,
     "metadata": {},
     "output_type": "execute_result"
    }
   ],
   "source": [
    "arr2.ndim"
   ]
  },
  {
   "cell_type": "code",
   "execution_count": 9,
   "id": "d48d724b-f43b-486f-ac64-9940048fd760",
   "metadata": {},
   "outputs": [
    {
     "data": {
      "text/plain": [
       "2"
      ]
     },
     "execution_count": 9,
     "metadata": {},
     "output_type": "execute_result"
    }
   ],
   "source": [
    "arr3.ndim"
   ]
  },
  {
   "cell_type": "code",
   "execution_count": 10,
   "id": "4661c783-b1e1-4817-8b0a-55818d7cb8d6",
   "metadata": {},
   "outputs": [
    {
     "name": "stdout",
     "output_type": "stream",
     "text": [
      "[[61 62 63 64 65]\n",
      " [66 67 68 69 70]\n",
      " [71 72 73 74 75]\n",
      " [76 77 78 79 80]\n",
      " [81 82 83 84 85]]\n"
     ]
    }
   ],
   "source": [
    "arr4 = np.array([[61, 62, 63, 64, 65],[66, 67, 68, 69, 70],[71,72,73,74,75],[76,77,78,79,80],[81,82,83,84,85] ])\n",
    "print(arr4)"
   ]
  },
  {
   "cell_type": "code",
   "execution_count": 11,
   "id": "3ca33ea3-9d0a-4b4c-85a7-39bc1d2195af",
   "metadata": {},
   "outputs": [
    {
     "data": {
      "text/plain": [
       "2"
      ]
     },
     "execution_count": 11,
     "metadata": {},
     "output_type": "execute_result"
    }
   ],
   "source": [
    "arr4.ndim"
   ]
  },
  {
   "cell_type": "markdown",
   "id": "e1590b72-9b01-4e1d-b752-f358b176f000",
   "metadata": {},
   "source": [
    "# type and dtype\n"
   ]
  },
  {
   "cell_type": "code",
   "execution_count": 12,
   "id": "38a80f2c-efc5-4c4a-9900-89f9ef1357f3",
   "metadata": {},
   "outputs": [
    {
     "name": "stdout",
     "output_type": "stream",
     "text": [
      "<class 'numpy.ndarray'>\n",
      "<class 'numpy.ndarray'>\n",
      "<class 'numpy.ndarray'>\n",
      "<class 'numpy.ndarray'>\n"
     ]
    }
   ],
   "source": [
    "print(type(arr1))\n",
    "print(type(arr2))\n",
    "print(type(arr3))\n",
    "print(type(arr4))"
   ]
  },
  {
   "cell_type": "code",
   "execution_count": 13,
   "id": "d73f1879-b5be-44b4-acf2-ea4bb6a9869f",
   "metadata": {},
   "outputs": [
    {
     "name": "stdout",
     "output_type": "stream",
     "text": [
      "int32\n",
      "int32\n",
      "int32\n",
      "int32\n"
     ]
    }
   ],
   "source": [
    "print(arr1.dtype)\n",
    "print(arr2.dtype)\n",
    "print(arr3.dtype)\n",
    "print(arr4.dtype)"
   ]
  },
  {
   "cell_type": "raw",
   "id": "6781c861-5d4a-4506-8686-99670dc5c89f",
   "metadata": {},
   "source": [
    "# creating 3d array ,4d array,5d array and check dtype and dim\n"
   ]
  },
  {
   "cell_type": "code",
   "execution_count": 14,
   "id": "7ca6de70-32a4-4e9d-af0e-3f0e2b9b2273",
   "metadata": {},
   "outputs": [],
   "source": [
    "a = np.array([[[[[1,2,3],[1,2,3],[1,2,3],[1,2,3],[1,2,3]]]]])"
   ]
  },
  {
   "cell_type": "code",
   "execution_count": 15,
   "id": "959e5976-6eea-455f-9e28-d2db957bb671",
   "metadata": {},
   "outputs": [
    {
     "name": "stdout",
     "output_type": "stream",
     "text": [
      "[[[[[1 2 3]\n",
      "    [1 2 3]\n",
      "    [1 2 3]\n",
      "    [1 2 3]\n",
      "    [1 2 3]]]]]\n"
     ]
    },
    {
     "data": {
      "text/plain": [
       "dtype('int32')"
      ]
     },
     "execution_count": 15,
     "metadata": {},
     "output_type": "execute_result"
    }
   ],
   "source": [
    "print(a)\n",
    "a.dtype"
   ]
  },
  {
   "cell_type": "code",
   "execution_count": 16,
   "id": "0bae869a-7a23-43d3-9959-fcc4389b4d26",
   "metadata": {},
   "outputs": [
    {
     "name": "stdout",
     "output_type": "stream",
     "text": [
      "5\n",
      "<class 'numpy.ndarray'>\n"
     ]
    }
   ],
   "source": [
    "print(a.ndim)\n",
    "print(type(a))"
   ]
  },
  {
   "cell_type": "code",
   "execution_count": 17,
   "id": "0180c529-c72d-43bd-841a-7cda53913ce0",
   "metadata": {},
   "outputs": [],
   "source": [
    "a = np.array([[[[1,2,3],[1,2,3],[1,2,3],[1,2,3]]]])"
   ]
  },
  {
   "cell_type": "code",
   "execution_count": 18,
   "id": "b5ed16e8-966a-4af1-b4ad-d7599ccf93ff",
   "metadata": {},
   "outputs": [
    {
     "name": "stdout",
     "output_type": "stream",
     "text": [
      "[[[[1 2 3]\n",
      "   [1 2 3]\n",
      "   [1 2 3]\n",
      "   [1 2 3]]]]\n"
     ]
    },
    {
     "data": {
      "text/plain": [
       "dtype('int32')"
      ]
     },
     "execution_count": 18,
     "metadata": {},
     "output_type": "execute_result"
    }
   ],
   "source": [
    "print(a)\n",
    "a.dtype"
   ]
  },
  {
   "cell_type": "code",
   "execution_count": 19,
   "id": "b2218341-3d10-455a-ae25-a9c1c892769c",
   "metadata": {},
   "outputs": [
    {
     "name": "stdout",
     "output_type": "stream",
     "text": [
      "4\n",
      "<class 'numpy.ndarray'>\n"
     ]
    }
   ],
   "source": [
    "print(a.ndim)\n",
    "print(type(a))"
   ]
  },
  {
   "cell_type": "code",
   "execution_count": 20,
   "id": "c7d5f0a5-5038-4ee6-97ff-c3b82d9c00a0",
   "metadata": {},
   "outputs": [],
   "source": [
    "a= np.array([[[1,2,3],[1,2,3],[1,2,3]]])"
   ]
  },
  {
   "cell_type": "code",
   "execution_count": 21,
   "id": "7bf33984-f27b-4427-b87f-10a1cc192ced",
   "metadata": {},
   "outputs": [
    {
     "name": "stdout",
     "output_type": "stream",
     "text": [
      "[[[1 2 3]\n",
      "  [1 2 3]\n",
      "  [1 2 3]]]\n"
     ]
    },
    {
     "data": {
      "text/plain": [
       "dtype('int32')"
      ]
     },
     "execution_count": 21,
     "metadata": {},
     "output_type": "execute_result"
    }
   ],
   "source": [
    "print(a)\n",
    "a.dtype"
   ]
  },
  {
   "cell_type": "code",
   "execution_count": 22,
   "id": "ec5f2c64-8801-4fbe-8f0e-f0d40b941ed5",
   "metadata": {},
   "outputs": [
    {
     "name": "stdout",
     "output_type": "stream",
     "text": [
      "[[[1 2 3]\n",
      "  [1 2 3]\n",
      "  [1 2 3]]]\n",
      "3\n"
     ]
    }
   ],
   "source": [
    "print(a)\n",
    "print(a.ndim)"
   ]
  },
  {
   "cell_type": "code",
   "execution_count": 23,
   "id": "868f4244-10b7-4011-9256-753e05886090",
   "metadata": {},
   "outputs": [
    {
     "name": "stdout",
     "output_type": "stream",
     "text": [
      "<class 'numpy.ndarray'>\n"
     ]
    }
   ],
   "source": [
    "print(type(a))"
   ]
  },
  {
   "cell_type": "code",
   "execution_count": null,
   "id": "dc41f1fc-9d9c-49c1-99c0-3da27c607d01",
   "metadata": {},
   "outputs": [],
   "source": []
  },
  {
   "cell_type": "markdown",
   "id": "ab950f9e-1df2-437c-9b53-8f45ec7498dd",
   "metadata": {},
   "source": [
    "Numpy Practice Part 2\n",
    "# Concatenating Arrays"
   ]
  },
  {
   "cell_type": "code",
   "execution_count": 24,
   "id": "05b2931a-1df8-4bd4-82a4-d61cfb33be95",
   "metadata": {},
   "outputs": [
    {
     "name": "stdout",
     "output_type": "stream",
     "text": [
      "[[ 1  2  3  4]\n",
      " [ 5  6  7  8]\n",
      " [ 9 10 11 12]]\n"
     ]
    }
   ],
   "source": [
    "arr1 = np.arange(1,13).reshape(3,4)\n",
    "print(arr1)"
   ]
  },
  {
   "cell_type": "code",
   "execution_count": 25,
   "id": "1269e0b8-3005-4b0a-a178-27c9bd7bbb73",
   "metadata": {},
   "outputs": [
    {
     "name": "stdout",
     "output_type": "stream",
     "text": [
      "[[13 14 15 16]\n",
      " [17 18 19 20]\n",
      " [21 22 23 24]]\n"
     ]
    }
   ],
   "source": [
    "arr2 = np.arange(13,25).reshape(3,4)\n",
    "print(arr2)"
   ]
  },
  {
   "cell_type": "code",
   "execution_count": 26,
   "id": "4465ad81-bcf4-48c9-b5b9-aa2f09050a42",
   "metadata": {},
   "outputs": [
    {
     "name": "stdout",
     "output_type": "stream",
     "text": [
      "[[ 1  2  3  4]\n",
      " [ 5  6  7  8]\n",
      " [ 9 10 11 12]\n",
      " [13 14 15 16]\n",
      " [17 18 19 20]\n",
      " [21 22 23 24]]\n"
     ]
    }
   ],
   "source": [
    "arr3 = np.concatenate((arr1,arr2))\n",
    "print(arr3)"
   ]
  },
  {
   "cell_type": "code",
   "execution_count": 27,
   "id": "bb14c17b-caf6-4217-9728-0fe02f67b3df",
   "metadata": {},
   "outputs": [
    {
     "data": {
      "text/plain": [
       "array([[ 1,  2,  3,  4],\n",
       "       [ 5,  6,  7,  8],\n",
       "       [ 9, 10, 11, 12],\n",
       "       [13, 14, 15, 16],\n",
       "       [17, 18, 19, 20],\n",
       "       [21, 22, 23, 24]])"
      ]
     },
     "execution_count": 27,
     "metadata": {},
     "output_type": "execute_result"
    }
   ],
   "source": [
    "arr3\n"
   ]
  },
  {
   "cell_type": "code",
   "execution_count": 28,
   "id": "2a3ead0b-f309-4fe0-a975-5986cdf5c9c4",
   "metadata": {},
   "outputs": [
    {
     "name": "stdout",
     "output_type": "stream",
     "text": [
      "[[ 1  2  3  4]\n",
      " [ 5  6  7  8]\n",
      " [ 9 10 11 12]\n",
      " [13 14 15 16]\n",
      " [17 18 19 20]\n",
      " [21 22 23 24]]\n"
     ]
    }
   ],
   "source": [
    "arr3 = np.concatenate((arr1,arr2),axis = 0)\n",
    "print(arr3)"
   ]
  },
  {
   "cell_type": "code",
   "execution_count": 29,
   "id": "2310d4af-40f6-43d6-b7a9-0981d318402f",
   "metadata": {},
   "outputs": [
    {
     "name": "stdout",
     "output_type": "stream",
     "text": [
      "[[ 1  2  3  4 13 14 15 16]\n",
      " [ 5  6  7  8 17 18 19 20]\n",
      " [ 9 10 11 12 21 22 23 24]]\n"
     ]
    }
   ],
   "source": [
    "arr3 = np.concatenate((arr1,arr2),axis=1)\n",
    "print(arr3)"
   ]
  },
  {
   "cell_type": "raw",
   "id": "1fd5f240-2f6a-4ac6-b0e5-3b8bb22ee5e7",
   "metadata": {},
   "source": [
    "# joining array using Stack Functions"
   ]
  },
  {
   "cell_type": "code",
   "execution_count": 30,
   "id": "a9e246bb-fbb7-410b-bd16-ab0a244206ba",
   "metadata": {},
   "outputs": [
    {
     "name": "stdout",
     "output_type": "stream",
     "text": [
      "[[[ 1  2  3  4]\n",
      "  [ 5  6  7  8]\n",
      "  [ 9 10 11 12]]\n",
      "\n",
      " [[13 14 15 16]\n",
      "  [17 18 19 20]\n",
      "  [21 22 23 24]]]\n"
     ]
    }
   ],
   "source": [
    "arr4 = np.stack((arr1,arr2))\n",
    "print(arr4)"
   ]
  },
  {
   "cell_type": "code",
   "execution_count": 31,
   "id": "28cdca83-2507-4e0f-b0ed-c01f5d5beb49",
   "metadata": {},
   "outputs": [
    {
     "name": "stdout",
     "output_type": "stream",
     "text": [
      "[[[ 1  2  3  4]\n",
      "  [ 5  6  7  8]\n",
      "  [ 9 10 11 12]]\n",
      "\n",
      " [[13 14 15 16]\n",
      "  [17 18 19 20]\n",
      "  [21 22 23 24]]]\n",
      "3\n"
     ]
    }
   ],
   "source": [
    "arr4 = np.stack((arr1,arr2),axis=0)\n",
    "print(arr4)\n",
    "print(arr4.ndim)"
   ]
  },
  {
   "cell_type": "code",
   "execution_count": 32,
   "id": "67cc9430-ed30-4879-acec-3ba4ac9874d7",
   "metadata": {},
   "outputs": [
    {
     "name": "stdout",
     "output_type": "stream",
     "text": [
      "[[[ 1  2  3  4]\n",
      "  [13 14 15 16]]\n",
      "\n",
      " [[ 5  6  7  8]\n",
      "  [17 18 19 20]]\n",
      "\n",
      " [[ 9 10 11 12]\n",
      "  [21 22 23 24]]]\n"
     ]
    }
   ],
   "source": [
    "arr4 = np.stack((arr1,arr2),axis=1)\n",
    "print(arr4)"
   ]
  },
  {
   "cell_type": "code",
   "execution_count": 33,
   "id": "f47e2b32-9fae-4b24-824f-fe5520f8accf",
   "metadata": {},
   "outputs": [
    {
     "data": {
      "text/plain": [
       "3"
      ]
     },
     "execution_count": 33,
     "metadata": {},
     "output_type": "execute_result"
    }
   ],
   "source": [
    "arr4.ndim"
   ]
  },
  {
   "cell_type": "markdown",
   "id": "145695b5-32e6-41ad-96ec-b5a23f876ec6",
   "metadata": {},
   "source": [
    "# Numpy Array Indexing and slicing\n"
   ]
  },
  {
   "cell_type": "code",
   "execution_count": 34,
   "id": "f6f64ef7-f122-4794-ba1c-449b8ee568c2",
   "metadata": {},
   "outputs": [
    {
     "name": "stdout",
     "output_type": "stream",
     "text": [
      "[ 1  2  3  4  5  6  7  8  9 10]\n"
     ]
    }
   ],
   "source": [
    "arr1 = np.arange(1,11)\n",
    "print(arr1)"
   ]
  },
  {
   "cell_type": "code",
   "execution_count": 37,
   "id": "d8d8598d-86a3-43a4-be75-ae0329387315",
   "metadata": {},
   "outputs": [
    {
     "name": "stdout",
     "output_type": "stream",
     "text": [
      "1\n"
     ]
    }
   ],
   "source": [
    "print((arr1[0])) # note in python indexing start from 0 not from 1"
   ]
  },
  {
   "cell_type": "code",
   "execution_count": 38,
   "id": "cd5ca7da-c0ba-4b15-a1ee-9c157cae5f4d",
   "metadata": {},
   "outputs": [
    {
     "name": "stdout",
     "output_type": "stream",
     "text": [
      "5\n"
     ]
    }
   ],
   "source": [
    "print((arr1[4]))"
   ]
  },
  {
   "cell_type": "code",
   "execution_count": 39,
   "id": "6df24992-d127-4244-85fb-2804a6e5e9bc",
   "metadata": {},
   "outputs": [
    {
     "data": {
      "text/plain": [
       "1"
      ]
     },
     "execution_count": 39,
     "metadata": {},
     "output_type": "execute_result"
    }
   ],
   "source": [
    "arr1.ndim"
   ]
  },
  {
   "cell_type": "code",
   "execution_count": 40,
   "id": "79e96aeb-4863-41fd-ad0a-f3295478b194",
   "metadata": {},
   "outputs": [
    {
     "name": "stdout",
     "output_type": "stream",
     "text": [
      "4 5\n"
     ]
    }
   ],
   "source": [
    "print(arr1[3],arr1[4])    # multiple indexing [ if anyone want to index more than one"
   ]
  },
  {
   "cell_type": "code",
   "execution_count": 44,
   "id": "ea3d1638-c4e4-4caa-b06c-1ed8d78748b2",
   "metadata": {},
   "outputs": [
    {
     "name": "stdout",
     "output_type": "stream",
     "text": [
      "5 7 8 9\n"
     ]
    }
   ],
   "source": [
    "print(arr1[4],arr1[6],arr1[7],arr1[8])"
   ]
  },
  {
   "cell_type": "code",
   "execution_count": 47,
   "id": "c7c89488-9d1a-44a0-bdad-9d39bf9bb5c7",
   "metadata": {},
   "outputs": [
    {
     "name": "stdout",
     "output_type": "stream",
     "text": [
      "[ 1  2  3  4  5  6  7  8  9 10]\n",
      "7\n"
     ]
    }
   ],
   "source": [
    "# lets suppose we want to add two particular index then we can do this\n",
    "print(arr1)\n",
    "print(arr1[2]+arr1[3])"
   ]
  },
  {
   "cell_type": "code",
   "execution_count": 49,
   "id": "d18f2aa4-271f-4e64-b030-e0c1b32c6b9f",
   "metadata": {},
   "outputs": [
    {
     "name": "stdout",
     "output_type": "stream",
     "text": [
      "11\n"
     ]
    }
   ],
   "source": [
    "print(arr1[4]+arr1[5])   #similarly we can add , subtract , multiply and divide"
   ]
  },
  {
   "cell_type": "code",
   "execution_count": 64,
   "id": "82eeeaa9-49bd-4262-b7eb-06fade2acdf0",
   "metadata": {},
   "outputs": [
    {
     "name": "stdout",
     "output_type": "stream",
     "text": [
      "9\n"
     ]
    }
   ],
   "source": [
    "print(arr1[-2])"
   ]
  },
  {
   "cell_type": "markdown",
   "id": "9b769e5d-b738-4f97-83f1-fdd0bd5044b2",
   "metadata": {},
   "source": [
    "# Indexing 2-d array and 3 d array"
   ]
  },
  {
   "cell_type": "code",
   "execution_count": 53,
   "id": "d049bc17-a677-44ad-a618-8f5f995538d5",
   "metadata": {},
   "outputs": [
    {
     "name": "stdout",
     "output_type": "stream",
     "text": [
      "[[1 2 3 4]\n",
      " [5 6 7 8]]\n"
     ]
    }
   ],
   "source": [
    "arr2 = np.array([[1,2,3,4],[5,6,7,8]])\n",
    "print(arr2)"
   ]
  },
  {
   "cell_type": "code",
   "execution_count": 54,
   "id": "343092ef-8479-41bb-95de-c82e8ea3d8e1",
   "metadata": {},
   "outputs": [
    {
     "data": {
      "text/plain": [
       "2"
      ]
     },
     "execution_count": 54,
     "metadata": {},
     "output_type": "execute_result"
    }
   ],
   "source": [
    "arr2.ndim"
   ]
  },
  {
   "cell_type": "code",
   "execution_count": 61,
   "id": "5d8e3462-cfe8-4892-a70f-5cf145ff12d0",
   "metadata": {},
   "outputs": [
    {
     "name": "stdout",
     "output_type": "stream",
     "text": [
      "[[1 2 3 4]\n",
      " [5 6 7 8]]\n"
     ]
    }
   ],
   "source": [
    "arr2 = np.arange(1,9).reshape(2,4)\n",
    "print(arr2)                     "
   ]
  },
  {
   "cell_type": "code",
   "execution_count": 62,
   "id": "2c75f7a7-0510-4730-9363-884c4e763da0",
   "metadata": {},
   "outputs": [],
   "source": [
    "# we can have 2 d array by this two type\n"
   ]
  },
  {
   "cell_type": "code",
   "execution_count": 63,
   "id": "4827c390-2a3f-4016-a6c0-2d18d45f11a5",
   "metadata": {},
   "outputs": [
    {
     "data": {
      "text/plain": [
       "array([[1, 2, 3, 4],\n",
       "       [5, 6, 7, 8]])"
      ]
     },
     "execution_count": 63,
     "metadata": {},
     "output_type": "execute_result"
    }
   ],
   "source": [
    "arr2"
   ]
  },
  {
   "cell_type": "code",
   "execution_count": 70,
   "id": "0dd66cc6-9b8d-476a-8a86-e36be4f02c20",
   "metadata": {},
   "outputs": [
    {
     "name": "stdout",
     "output_type": "stream",
     "text": [
      "1\n"
     ]
    }
   ],
   "source": [
    "print(arr2[0,0])  # here [1,2] 1 indicate row and 2 indicate column\n"
   ]
  },
  {
   "cell_type": "code",
   "execution_count": 71,
   "id": "f2a985dd-4583-4680-9a1e-aa09f415cf6c",
   "metadata": {},
   "outputs": [
    {
     "name": "stdout",
     "output_type": "stream",
     "text": [
      "3\n"
     ]
    }
   ],
   "source": [
    "print(arr2[0,2])"
   ]
  },
  {
   "cell_type": "code",
   "execution_count": 72,
   "id": "0839b066-4ec7-4517-80eb-94981d2e7b47",
   "metadata": {},
   "outputs": [
    {
     "name": "stdout",
     "output_type": "stream",
     "text": [
      "7\n"
     ]
    }
   ],
   "source": [
    "print(arr2[1,2])"
   ]
  },
  {
   "cell_type": "raw",
   "id": "6ccca632-e5ae-4424-9096-706856c1a160",
   "metadata": {},
   "source": [
    "# indexing of 3 d array"
   ]
  },
  {
   "cell_type": "code",
   "execution_count": 77,
   "id": "44cd71e4-e6b7-4250-a6f4-c77e117579a4",
   "metadata": {},
   "outputs": [
    {
     "name": "stdout",
     "output_type": "stream",
     "text": [
      "[[ 1  2  3]\n",
      " [ 4  5  6]\n",
      " [ 7  8  9]\n",
      " [10 11 12]]\n"
     ]
    }
   ],
   "source": [
    "arr3 = np.arange(1,13).reshape(4,3)\n",
    "print(arr3)"
   ]
  },
  {
   "cell_type": "code",
   "execution_count": 78,
   "id": "794b3730-eacb-40ee-be81-3fe345f98ef4",
   "metadata": {},
   "outputs": [
    {
     "data": {
      "text/plain": [
       "2"
      ]
     },
     "execution_count": 78,
     "metadata": {},
     "output_type": "execute_result"
    }
   ],
   "source": [
    "arr3.ndim"
   ]
  },
  {
   "cell_type": "code",
   "execution_count": 80,
   "id": "6ced78ba-e41b-4d46-83da-6d8f6758ae0f",
   "metadata": {},
   "outputs": [
    {
     "name": "stdout",
     "output_type": "stream",
     "text": [
      "[[13 14 15]\n",
      " [16 17 18]\n",
      " [19 20 21]\n",
      " [22 23 24]]\n"
     ]
    }
   ],
   "source": [
    "arr3 = np.arange(13,25).reshape(4,3)\n",
    "print(arr3)"
   ]
  },
  {
   "cell_type": "code",
   "execution_count": 85,
   "id": "3fff03d7-f498-41fb-a1e0-af4ea2538225",
   "metadata": {},
   "outputs": [],
   "source": [
    "arr4 = np.stack((arr3,arr3))"
   ]
  },
  {
   "cell_type": "code",
   "execution_count": 86,
   "id": "d4c22e74-c7e0-4934-8a23-3774efc270af",
   "metadata": {},
   "outputs": [
    {
     "data": {
      "text/plain": [
       "array([[[13, 14, 15],\n",
       "        [16, 17, 18],\n",
       "        [19, 20, 21],\n",
       "        [22, 23, 24]],\n",
       "\n",
       "       [[13, 14, 15],\n",
       "        [16, 17, 18],\n",
       "        [19, 20, 21],\n",
       "        [22, 23, 24]]])"
      ]
     },
     "execution_count": 86,
     "metadata": {},
     "output_type": "execute_result"
    }
   ],
   "source": [
    "arr4"
   ]
  },
  {
   "cell_type": "code",
   "execution_count": 87,
   "id": "552e28e7-429a-4b30-a77d-9715ce07c2e9",
   "metadata": {},
   "outputs": [
    {
     "data": {
      "text/plain": [
       "3"
      ]
     },
     "execution_count": 87,
     "metadata": {},
     "output_type": "execute_result"
    }
   ],
   "source": [
    "arr4.ndim"
   ]
  },
  {
   "cell_type": "code",
   "execution_count": 95,
   "id": "0a8db0b9-05f5-4480-a591-ea03902e1b0b",
   "metadata": {},
   "outputs": [
    {
     "name": "stdout",
     "output_type": "stream",
     "text": [
      "24\n"
     ]
    }
   ],
   "source": [
    "print(arr4[0,3,2])"
   ]
  },
  {
   "cell_type": "code",
   "execution_count": 96,
   "id": "c69ee21c-6bd3-48b8-a71c-0a534bbb0ba2",
   "metadata": {},
   "outputs": [
    {
     "name": "stdout",
     "output_type": "stream",
     "text": [
      "24\n"
     ]
    }
   ],
   "source": [
    "print(arr4[1,3,2])"
   ]
  },
  {
   "cell_type": "raw",
   "id": "b1c5acc0-b38b-4889-83a7-eaed9ebf0de3",
   "metadata": {},
   "source": [
    "# slicing\n"
   ]
  },
  {
   "cell_type": "code",
   "execution_count": 102,
   "id": "731b2789-8900-4feb-80a4-eaf4307b459b",
   "metadata": {},
   "outputs": [
    {
     "name": "stdout",
     "output_type": "stream",
     "text": [
      "[ 1  2  3  4  5  6  7  8  9 10]\n"
     ]
    },
    {
     "data": {
      "text/plain": [
       "1"
      ]
     },
     "execution_count": 102,
     "metadata": {},
     "output_type": "execute_result"
    }
   ],
   "source": [
    "print(arr1)\n",
    "arr1.ndim"
   ]
  },
  {
   "cell_type": "code",
   "execution_count": 104,
   "id": "b131fd14-a675-4202-a048-3abe5c5297ae",
   "metadata": {},
   "outputs": [
    {
     "name": "stdout",
     "output_type": "stream",
     "text": [
      "[[1 2 3 4]\n",
      " [5 6 7 8]]\n"
     ]
    },
    {
     "data": {
      "text/plain": [
       "2"
      ]
     },
     "execution_count": 104,
     "metadata": {},
     "output_type": "execute_result"
    }
   ],
   "source": [
    "print(arr2)\n",
    "arr2.ndim"
   ]
  },
  {
   "cell_type": "code",
   "execution_count": 107,
   "id": "1e6350a0-c1e4-4985-8e78-28e8b4146561",
   "metadata": {},
   "outputs": [
    {
     "name": "stdout",
     "output_type": "stream",
     "text": [
      "[2]\n"
     ]
    }
   ],
   "source": [
    "print(arr1[1:2])"
   ]
  },
  {
   "cell_type": "code",
   "execution_count": 109,
   "id": "4e70a8de-3c9a-416c-9c61-3ce2f75574c7",
   "metadata": {},
   "outputs": [
    {
     "name": "stdout",
     "output_type": "stream",
     "text": [
      "[2 3 4 5 6]\n"
     ]
    }
   ],
   "source": [
    "print(arr1[1:6]) #here 1 in exlusive and 6 in inclusive"
   ]
  },
  {
   "cell_type": "code",
   "execution_count": 111,
   "id": "b1d5e113-921a-404b-a538-44b9c2cd99f7",
   "metadata": {},
   "outputs": [
    {
     "name": "stdout",
     "output_type": "stream",
     "text": [
      "[ 5  6  7  8  9 10]\n"
     ]
    }
   ],
   "source": [
    "print(arr1[4:])"
   ]
  },
  {
   "cell_type": "code",
   "execution_count": 118,
   "id": "f7733912-5852-4444-9dc0-deb9bd3fe897",
   "metadata": {},
   "outputs": [
    {
     "name": "stdout",
     "output_type": "stream",
     "text": [
      "[[1 2 3 4]\n",
      " [5 6 7 8]]\n",
      "[[1 2 3 4]\n",
      " [5 6 7 8]]\n"
     ]
    }
   ],
   "source": [
    "print(arr2)\n",
    "print(arr2[:])"
   ]
  },
  {
   "cell_type": "code",
   "execution_count": 125,
   "id": "2e874e67-74f0-4658-ab30-eec34f6ed486",
   "metadata": {},
   "outputs": [
    {
     "name": "stdout",
     "output_type": "stream",
     "text": [
      "[7]\n"
     ]
    }
   ],
   "source": [
    "#print(arr2)\n",
    "print(arr2[1:5,2])"
   ]
  },
  {
   "cell_type": "code",
   "execution_count": 129,
   "id": "411e1f63-999e-45b1-8934-6bd081016cac",
   "metadata": {},
   "outputs": [
    {
     "name": "stdout",
     "output_type": "stream",
     "text": [
      "[[[13 14 15]\n",
      "  [16 17 18]\n",
      "  [19 20 21]\n",
      "  [22 23 24]]]\n"
     ]
    }
   ],
   "source": [
    "print(arr4[0:1:4])"
   ]
  },
  {
   "cell_type": "code",
   "execution_count": null,
   "id": "18d811fa-06ff-418c-8b9b-4acff0655a9a",
   "metadata": {},
   "outputs": [],
   "source": []
  }
 ],
 "metadata": {
  "kernelspec": {
   "display_name": "Python 3 (ipykernel)",
   "language": "python",
   "name": "python3"
  },
  "language_info": {
   "codemirror_mode": {
    "name": "ipython",
    "version": 3
   },
   "file_extension": ".py",
   "mimetype": "text/x-python",
   "name": "python",
   "nbconvert_exporter": "python",
   "pygments_lexer": "ipython3",
   "version": "3.11.1"
  }
 },
 "nbformat": 4,
 "nbformat_minor": 5
}
