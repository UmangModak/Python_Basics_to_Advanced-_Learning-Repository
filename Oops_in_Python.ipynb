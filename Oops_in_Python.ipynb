{
 "cells": [
  {
   "cell_type": "markdown",
   "id": "0dd855fe-f4ab-42ad-9e6a-b737812f4090",
   "metadata": {},
   "source": [
    "### OOps Concept / OOps Programming in python : \n",
    "oops   stand for object oriented programming , allowing us to structure our code for better organization and resuability.\n",
    "\n",
    "Advantages :\n",
    "\n",
    "1. it provide us clear structure of a program or a code.\n",
    "2.  it makes us easy to understand , to reuse , and to debug.\n",
    "3.  it allows us to build resusable application.\n",
    "\n",
    "classes and objects are two main core concept:\n",
    "\n",
    "class : it is like a blueprint\n",
    "\n",
    "object : object is based on that class or it mainly data holder\n",
    "\n",
    "Syntax: \n",
    "\n",
    "class class_name :"
   ]
  },
  {
   "cell_type": "markdown",
   "id": "d38a43cc-5a38-4b86-bb94-c6efd08f25b6",
   "metadata": {},
   "source": [
    "#### example :\n",
    "\n",
    "Hundai : i10 , i20 , santro , verna .... \n",
    "\n",
    "class : Hundai\n",
    "\n",
    "object : i10,i20...\n",
    "    \n"
   ]
  },
  {
   "cell_type": "code",
   "execution_count": 1,
   "id": "53700791-c71b-4675-951f-21ef4d3c4767",
   "metadata": {},
   "outputs": [
    {
     "name": "stdout",
     "output_type": "stream",
     "text": [
      "Black Hundai  is driving \n",
      "white Tata  is driving \n",
      "white Tata  is driving \n"
     ]
    },
    {
     "data": {
      "text/plain": [
       "'\\ntask :\\ncreate one clss student with name and age  object name and age '"
      ]
     },
     "execution_count": 1,
     "metadata": {},
     "output_type": "execute_result"
    }
   ],
   "source": [
    "class car:\n",
    "    # constructor \n",
    "    def __init__(self , brand , color):\n",
    "        self.brand = brand\n",
    "        self.color = color\n",
    "\n",
    "    def cars(self):\n",
    "        print(f\"{self.color} {self.brand}  is driving \")\n",
    "\n",
    "#objects\n",
    "\n",
    "car1 = car(\"Hundai\",\"Black\")\n",
    "car2 = car(\"Tata\",\"white\")\n",
    "car3 = car(\"Tata\",\"white\")\n",
    "car1.cars()\n",
    "car2.cars()\n",
    "car3.cars()\n",
    "'''\n",
    "task :\n",
    "create one clss student with name and age  object name and age '''"
   ]
  },
  {
   "cell_type": "markdown",
   "id": "0aaaa67d-9ca7-4cdb-9cfe-9e6a0723e269",
   "metadata": {},
   "source": [
    "### 2. Encapsulation : data hiding ; to keep data safe and secure \n",
    "\n",
    "three stages of data hiding :\n",
    "\n",
    "public: acessed to all and everyone\n",
    "\n",
    "protected : it has some password and it for specific \n",
    "\n",
    "private : fully protected for only person\n",
    "\n"
   ]
  },
  {
   "cell_type": "code",
   "execution_count": 2,
   "id": "b552d61c-1d5b-4517-97c8-7e43b73f4c07",
   "metadata": {},
   "outputs": [
    {
     "name": "stdout",
     "output_type": "stream",
     "text": [
      "Deposite :  1000 , New Balance 11000\n",
      " withdraw amount  : 500 , new balance : 10500\n"
     ]
    },
    {
     "ename": "AttributeError",
     "evalue": "'Bankaccount' object has no attribute '__balance'",
     "output_type": "error",
     "traceback": [
      "\u001b[31m---------------------------------------------------------------------------\u001b[39m",
      "\u001b[31mAttributeError\u001b[39m                            Traceback (most recent call last)",
      "\u001b[36mCell\u001b[39m\u001b[36m \u001b[39m\u001b[32mIn[2]\u001b[39m\u001b[32m, line 26\u001b[39m\n\u001b[32m     22\u001b[39m account_name.deposite(\u001b[32m1000\u001b[39m)\n\u001b[32m     23\u001b[39m account_name.withdraw(\u001b[32m500\u001b[39m)\n\u001b[32m---> \u001b[39m\u001b[32m26\u001b[39m \u001b[38;5;28mprint\u001b[39m(\u001b[43maccount_name\u001b[49m\u001b[43m.\u001b[49m\u001b[43m__balance\u001b[49m)\n\u001b[32m     28\u001b[39m \u001b[38;5;66;03m# The below error is getting due to encapsulation ( __balance) as it is hidden thats why we are getting error for __balance attribute\u001b[39;00m\n",
      "\u001b[31mAttributeError\u001b[39m: 'Bankaccount' object has no attribute '__balance'"
     ]
    }
   ],
   "source": [
    "class Bankaccount:\n",
    "    def __init__(self, account_holder , balance):\n",
    "        self.account_holder = account_holder # its public\n",
    "        self.__balance  = balance  # in this it is our encapusaltion : data hiding \n",
    "\n",
    "    def deposite(self, amount):\n",
    "        self.__balance += amount\n",
    "\n",
    "        print(f\"Deposite :  {amount} , New Balance {self.__balance}\")\n",
    "\n",
    "    def withdraw(self , amount):\n",
    "        if amount <= self.__balance:\n",
    "            self.__balance -= amount\n",
    "            print(f\" withdraw amount  : {amount} , new balance : {self.__balance}\")\n",
    "\n",
    "        else:\n",
    "            print(\"Amount is insufficient\")\n",
    "\n",
    "# objects\n",
    "\n",
    "account_name = Bankaccount(\"Umang\" ,10000)\n",
    "account_name.deposite(1000)\n",
    "account_name.withdraw(500)\n",
    "\n",
    "\n",
    "print(account_name.__balance)\n",
    "\n",
    "# The below error is getting due to encapsulation ( __balance) as it is hidden thats why we are getting error for __balance attribute"
   ]
  },
  {
   "cell_type": "markdown",
   "id": "bf066fb8-af88-404b-8653-88d0a25b13d1",
   "metadata": {},
   "source": [
    "### 3. Inheritance : it can inheritate properties and methods to different class from another class \n",
    "helps in code resuability "
   ]
  },
  {
   "cell_type": "code",
   "execution_count": 4,
   "id": "528863a5-53d1-4177-8897-64d4ec77bf9b",
   "metadata": {},
   "outputs": [
    {
     "name": "stdout",
     "output_type": "stream",
     "text": [
      " this sound if of dog  \n",
      " Dog == Barks\n",
      "this is kind of animal sound\n",
      " this sound if of cat  \n",
      " cat == Meao\n"
     ]
    }
   ],
   "source": [
    "class animal:\n",
    "    def sound(self):\n",
    "        print(\"this is kind of animal sound\")\n",
    "\n",
    "class dog(animal):\n",
    "    \n",
    "    #pass\n",
    "    print(\" this sound if of dog  \\n Dog == Barks\")\n",
    "    \n",
    "    #def sound(self):\n",
    "     #   print(\" this sound if of dog  \\n Dog == Barks\")\n",
    "\n",
    "\n",
    "class cat(animal):\n",
    "    def sound(self):\n",
    "        print(\" this sound if of cat  \\n cat == Meao\")\n",
    "\n",
    "Dog = dog()\n",
    "Cat = cat()\n",
    "\n",
    "Dog.sound()\n",
    "Cat.sound()"
   ]
  },
  {
   "cell_type": "markdown",
   "id": "f5eb0af3-8722-4845-8d87-158050012b04",
   "metadata": {},
   "source": [
    "### 4 . Polymorphism : same function name but diffrent meaning  \n",
    "for example : Bat : cricket bat , animal "
   ]
  },
  {
   "cell_type": "markdown",
   "id": "e3e464ae-8adb-4bd1-ab64-ed406d4773fd",
   "metadata": {},
   "source": [
    "Bat : cricket bat , animal \n",
    "\n",
    "here bat contains same spell or function but has different meaning or working."
   ]
  },
  {
   "cell_type": "code",
   "execution_count": null,
   "id": "87f79805-fe4c-4107-908e-532a9b1ad5b8",
   "metadata": {},
   "outputs": [],
   "source": [
    "class shape:\n",
    "    def area(self):\n",
    "        pass\n",
    "\n",
    "class circle(shape):\n",
    "    def __init__(self, radius):\n",
    "        self.radius = radius\n",
    "\n",
    "    def area(self):\n",
    "        return 3.14 * self.radius *self.radius\n",
    "\n",
    "class rectangle(shape):\n",
    "    def __init__(self, length,bredth):\n",
    "        self.length = length\n",
    "        self.bredth = bredth\n",
    "\n",
    "    def area(self):\n",
    "        return  self.length *self.bredth\n",
    "\n",
    "\n",
    "Circle = circle(10)\n",
    "Rectangle = rectangle(4,5)\n",
    "\n",
    "print(\"the area of circle is : \",Circle.area())\n",
    "\n",
    "print(\"the area of rectangle is : \",Rectangle.area())"
   ]
  },
  {
   "cell_type": "markdown",
   "id": "be2a5cf5-4515-4356-ac79-a4c48993c3d9",
   "metadata": {},
   "source": [
    "Example of Polymorphism"
   ]
  },
  {
   "cell_type": "code",
   "execution_count": null,
   "id": "78f8e7b7-e06c-464e-81e4-25f47d6c92f3",
   "metadata": {},
   "outputs": [],
   "source": [
    "class Car:\n",
    "  def __init__(self, brand, model):\n",
    "    self.brand = brand\n",
    "    self.model = model\n",
    "\n",
    "  def move(self):\n",
    "    print(\"Drive!\")\n",
    "\n",
    "class Boat:\n",
    "  def __init__(self, brand, model):\n",
    "    self.brand = brand\n",
    "    self.model = model\n",
    "\n",
    "  def move(self):\n",
    "    print(\"Sail!\")\n",
    "\n",
    "class Plane:\n",
    "  def __init__(self, brand, model):\n",
    "    self.brand = brand\n",
    "    self.model = model\n",
    "\n",
    "  def move(self):\n",
    "    print(\"Fly!\")\n",
    "\n",
    "car1 = Car(\"Ford\", \"Mustang\")       #Create a Car object\n",
    "boat1 = Boat(\"Ibiza\", \"Touring 20\") #Create a Boat object\n",
    "plane1 = Plane(\"Boeing\", \"747\")     #Create a Plane object\n",
    "\n",
    "for x in (car1, boat1, plane1):\n",
    "  x.move()"
   ]
  },
  {
   "cell_type": "code",
   "execution_count": null,
   "id": "3b4b9209-fe10-40f4-93c5-5a5ce80b6224",
   "metadata": {},
   "outputs": [],
   "source": []
  },
  {
   "cell_type": "code",
   "execution_count": null,
   "id": "fcdc246d-4a27-4f4a-82cd-496f5f08eeb2",
   "metadata": {},
   "outputs": [],
   "source": []
  }
 ],
 "metadata": {
  "kernelspec": {
   "display_name": "Python 3 (ipykernel)",
   "language": "python",
   "name": "python3"
  },
  "language_info": {
   "codemirror_mode": {
    "name": "ipython",
    "version": 3
   },
   "file_extension": ".py",
   "mimetype": "text/x-python",
   "name": "python",
   "nbconvert_exporter": "python",
   "pygments_lexer": "ipython3",
   "version": "3.13.5"
  },
  "widgets": {
   "application/vnd.jupyter.widget-state+json": {
    "state": {},
    "version_major": 2,
    "version_minor": 0
   }
  }
 },
 "nbformat": 4,
 "nbformat_minor": 5
}
