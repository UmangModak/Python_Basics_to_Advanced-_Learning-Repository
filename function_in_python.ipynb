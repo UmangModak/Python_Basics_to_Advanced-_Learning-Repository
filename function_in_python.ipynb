{
 "cells": [
  {
   "cell_type": "markdown",
   "id": "ef34c66f-afe3-4715-b098-12e1b8486e92",
   "metadata": {},
   "source": [
    "### functions : it is block of code , which runs only we called it.\n",
    "types of Functions :\n",
    "\n",
    "1. Built - in function : built in function  basically are those which are already build by python or it is already present inside python\n",
    "\n",
    "   for example : len , max , min , print , range.....\n",
    " \n",
    "2. User defined function : those  function which are created by programmer or user.\n",
    "   for example : even_odd ( function we created in our practice )\n",
    "\n",
    "3. Recursive function : it is a function which call itself.\n",
    "\n",
    "4. Anymous function : lambda function : it will take any numbers but perform only one expression which was given by user \n",
    "\n",
    "parameter / arguments : it is a information that can be passed into a fuction /  it is variable that is listed into a function  and can written                                inside () round parenthesis.\n",
    "\n",
    "keywords : keyword is value pass on to a arguments \n",
    "\n",
    "function syntax :\n",
    "\n",
    " def function_name(Argument / parameter = \" Keyword \")\n",
    "\n",
    "def  = defined\n",
    "Argument = passing variable inside parenthesis\n",
    "Keyword  = passing value to a variable inside parenthesis \n",
    " \n",
    "function with arugments:\n",
    "1. function with required argument :  number of argument should be match\n",
    "2. function with default argument :  it contains some default value to a argument\n",
    "3. function with keyword argument :  passing keyword value with argument when we called it.\n",
    "4. function with variable length argument : it will align with variable or argument . the number of argument follows number of variable length ( *argument )\n",
    "\n",
    "function : def function(argument):\n",
    "\n",
    " Anymous function : lambda  x:x*2\n",
    " \n",
    " syntax : lambda  varibale_name : variable _expression\n",
    "\n"
   ]
  },
  {
   "cell_type": "code",
   "execution_count": 27,
   "id": "5f39256a-a0a9-4a6d-8b6e-d990032cf51b",
   "metadata": {},
   "outputs": [],
   "source": [
    "# Exmple of a function with a required argument\n",
    "def add(a, b):\n",
    "    return a+b"
   ]
  },
  {
   "cell_type": "code",
   "execution_count": 28,
   "id": "22c63b42-b89f-42ab-b514-e73cc34ad94b",
   "metadata": {},
   "outputs": [
    {
     "data": {
      "text/plain": [
       "3"
      ]
     },
     "execution_count": 28,
     "metadata": {},
     "output_type": "execute_result"
    }
   ],
   "source": [
    "add(1 ,2)"
   ]
  },
  {
   "cell_type": "code",
   "execution_count": 29,
   "id": "cc61731f-ece6-47e7-b111-2d80f5596528",
   "metadata": {},
   "outputs": [],
   "source": [
    "# example of a function with a default argument\n",
    "def add(a=4, b=2):\n",
    "    return a+b"
   ]
  },
  {
   "cell_type": "code",
   "execution_count": 30,
   "id": "bc2b362c-8194-415b-97fc-3a48d1282a75",
   "metadata": {},
   "outputs": [
    {
     "data": {
      "text/plain": [
       "30"
      ]
     },
     "execution_count": 30,
     "metadata": {},
     "output_type": "execute_result"
    }
   ],
   "source": [
    "add(10,20)"
   ]
  },
  {
   "cell_type": "code",
   "execution_count": 33,
   "id": "8edf5edb-7efc-4e56-83a3-bc204ac60ff5",
   "metadata": {},
   "outputs": [
    {
     "data": {
      "text/plain": [
       "32"
      ]
     },
     "execution_count": 33,
     "metadata": {},
     "output_type": "execute_result"
    }
   ],
   "source": [
    "add(10,22)"
   ]
  },
  {
   "cell_type": "code",
   "execution_count": 34,
   "id": "d7b37b6d-9df9-4e8f-9121-1a5e01c0d714",
   "metadata": {},
   "outputs": [
    {
     "data": {
      "text/plain": [
       "6"
      ]
     },
     "execution_count": 34,
     "metadata": {},
     "output_type": "execute_result"
    }
   ],
   "source": [
    "add()"
   ]
  },
  {
   "cell_type": "code",
   "execution_count": 37,
   "id": "6f79edd3-3eb5-4c30-bdc7-4124aa948639",
   "metadata": {},
   "outputs": [],
   "source": [
    "# example with a function of keyword argument\n",
    "def student(name,age):\n",
    "    print(f\"name :{name}, age :{age}\")"
   ]
  },
  {
   "cell_type": "code",
   "execution_count": 40,
   "id": "a8d8d3ab-2adc-462e-9091-fceb2366a728",
   "metadata": {},
   "outputs": [
    {
     "name": "stdout",
     "output_type": "stream",
     "text": [
      "name :riya, age :22\n"
     ]
    }
   ],
   "source": [
    "student(name=\"riya\",age=22)"
   ]
  },
  {
   "cell_type": "code",
   "execution_count": 41,
   "id": "a9720294-1f0f-46d0-8c72-24115559a7da",
   "metadata": {},
   "outputs": [
    {
     "name": "stdout",
     "output_type": "stream",
     "text": [
      "name :riyash, age :22\n"
     ]
    }
   ],
   "source": [
    "student(age=22,name=\"riyash\")"
   ]
  },
  {
   "cell_type": "code",
   "execution_count": null,
   "id": "80847d44-b5fd-44d5-9b2f-c2c4d2bccdb9",
   "metadata": {},
   "outputs": [],
   "source": []
  },
  {
   "cell_type": "code",
   "execution_count": 51,
   "id": "bee84d91-8ccc-43b9-a575-8deacbb8f12d",
   "metadata": {},
   "outputs": [],
   "source": [
    "# exmple with a function of variable length argument\n",
    "def add(*numbers):\n",
    "    \n",
    "    return sum(numbers)"
   ]
  },
  {
   "cell_type": "code",
   "execution_count": 54,
   "id": "d72e886f-110a-48a1-989f-7643d7450f5f",
   "metadata": {},
   "outputs": [
    {
     "data": {
      "text/plain": [
       "154"
      ]
     },
     "execution_count": 54,
     "metadata": {},
     "output_type": "execute_result"
    }
   ],
   "source": [
    "add(21,22,23,43,45)"
   ]
  },
  {
   "cell_type": "code",
   "execution_count": 102,
   "id": "d877e2a7-dd21-469e-830c-fdab990f8dfc",
   "metadata": {},
   "outputs": [
    {
     "name": "stdin",
     "output_type": "stream",
     "text": [
      "enter your number 6\n"
     ]
    },
    {
     "name": "stdout",
     "output_type": "stream",
     "text": [
      "0 1 1 2 3 5 "
     ]
    }
   ],
   "source": [
    "# Example of a recursive function\n",
    "def fibonacci_series(n):\n",
    "    if n <= 1 :\n",
    "        return n\n",
    "\n",
    "    else:\n",
    "        return fibonacci_series(n-1) + fibonacci_series(n-2)\n",
    "\n",
    "number = int(input(\"enter your number\"))\n",
    "\n",
    "\n",
    "for i in range(number):\n",
    "    print(fibonacci_series(i),end =\" \")"
   ]
  },
  {
   "cell_type": "code",
   "execution_count": 70,
   "id": "b9031521-b541-4d74-9f42-37162c4542e7",
   "metadata": {},
   "outputs": [],
   "source": [
    "# Example of a recursive function\n",
    "def fact(n):\n",
    "    if n==1:\n",
    "        return 1\n",
    "    else:\n",
    "        return n * fact(n-1)\n"
   ]
  },
  {
   "cell_type": "code",
   "execution_count": 71,
   "id": "b93d523b-0cbc-453b-a76c-0e512959cc91",
   "metadata": {},
   "outputs": [
    {
     "data": {
      "text/plain": [
       "2"
      ]
     },
     "execution_count": 71,
     "metadata": {},
     "output_type": "execute_result"
    }
   ],
   "source": [
    "fact(2)"
   ]
  },
  {
   "cell_type": "code",
   "execution_count": 72,
   "id": "3f1eb64c-18f8-4463-8fcf-2aef18006ef2",
   "metadata": {},
   "outputs": [
    {
     "data": {
      "text/plain": [
       "6"
      ]
     },
     "execution_count": 72,
     "metadata": {},
     "output_type": "execute_result"
    }
   ],
   "source": [
    "fact(3)"
   ]
  },
  {
   "cell_type": "code",
   "execution_count": 73,
   "id": "a194d52a-58c6-4954-9edd-bf24858ab740",
   "metadata": {},
   "outputs": [
    {
     "data": {
      "text/plain": [
       "24"
      ]
     },
     "execution_count": 73,
     "metadata": {},
     "output_type": "execute_result"
    }
   ],
   "source": [
    "fact(4)"
   ]
  },
  {
   "cell_type": "code",
   "execution_count": 74,
   "id": "fa420fa9-658c-4715-aacf-f6cf668b380f",
   "metadata": {},
   "outputs": [
    {
     "data": {
      "text/plain": [
       "720"
      ]
     },
     "execution_count": 74,
     "metadata": {},
     "output_type": "execute_result"
    }
   ],
   "source": [
    "fact(6)"
   ]
  },
  {
   "cell_type": "code",
   "execution_count": 75,
   "id": "7decb254-7846-4531-9207-41893352dfc6",
   "metadata": {},
   "outputs": [
    {
     "data": {
      "text/plain": [
       "120"
      ]
     },
     "execution_count": 75,
     "metadata": {},
     "output_type": "execute_result"
    }
   ],
   "source": [
    "fact(5)"
   ]
  },
  {
   "cell_type": "code",
   "execution_count": 63,
   "id": "574cbefb-8155-4415-b74b-f105cb85bbfa",
   "metadata": {},
   "outputs": [],
   "source": [
    "#Example of Anymous lambda function\n",
    "multiply_two = lambda a : a*2"
   ]
  },
  {
   "cell_type": "code",
   "execution_count": 61,
   "id": "a4473344-ba3e-4888-8d38-7f3e16e0de51",
   "metadata": {},
   "outputs": [
    {
     "name": "stdout",
     "output_type": "stream",
     "text": [
      "4\n"
     ]
    }
   ],
   "source": [
    "print(multiply_two(2))"
   ]
  },
  {
   "cell_type": "code",
   "execution_count": 64,
   "id": "aa786f96-847c-4719-8927-4d9021d52af4",
   "metadata": {},
   "outputs": [
    {
     "data": {
      "text/plain": [
       "8"
      ]
     },
     "execution_count": 64,
     "metadata": {},
     "output_type": "execute_result"
    }
   ],
   "source": [
    "multiply_two(4)"
   ]
  },
  {
   "cell_type": "code",
   "execution_count": 69,
   "id": "3bab08fd-6256-417e-af12-a93660f80f8b",
   "metadata": {},
   "outputs": [
    {
     "name": "stdout",
     "output_type": "stream",
     "text": [
      "4\n"
     ]
    }
   ],
   "source": [
    "\n",
    "sq = lambda i :i*2\n",
    "\n",
    "print(sq(2))"
   ]
  },
  {
   "cell_type": "code",
   "execution_count": null,
   "id": "827d28df-d6ac-47c1-ab77-76660c9e0faa",
   "metadata": {},
   "outputs": [],
   "source": []
  }
 ],
 "metadata": {
  "kernelspec": {
   "display_name": "Python 3 (ipykernel)",
   "language": "python",
   "name": "python3"
  },
  "language_info": {
   "codemirror_mode": {
    "name": "ipython",
    "version": 3
   },
   "file_extension": ".py",
   "mimetype": "text/x-python",
   "name": "python",
   "nbconvert_exporter": "python",
   "pygments_lexer": "ipython3",
   "version": "3.13.5"
  },
  "widgets": {
   "application/vnd.jupyter.widget-state+json": {
    "state": {},
    "version_major": 2,
    "version_minor": 0
   }
  }
 },
 "nbformat": 4,
 "nbformat_minor": 5
}
